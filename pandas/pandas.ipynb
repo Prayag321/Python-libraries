{
 "cells": [
  {
   "cell_type": "markdown",
   "metadata": {},
   "source": [
    "\"\"\"<br>\n",
    "    @Author: Prayag Bhoir<br>\n",
    "    @Date: 5-08-2024 <br>\n",
    "    @Last Modified by: Prayag Bhoir<br>\n",
    "    @Last Modified time: 5-08-2024 <br>\n",
    "    @Title : Python programs on numpy<br>\n",
    "\"\"\""
   ]
  },
  {
   "cell_type": "code",
   "execution_count": 1,
   "metadata": {},
   "outputs": [],
   "source": [
    "import numpy as np\n",
    "import pandas as pd\n"
   ]
  },
  {
   "cell_type": "markdown",
   "metadata": {},
   "source": [
    "## 1. Write a Python program to create and display a one-dimensional array-like object containing an array of data using Pandas module."
   ]
  },
  {
   "cell_type": "code",
   "execution_count": 7,
   "metadata": {},
   "outputs": [
    {
     "name": "stdout",
     "output_type": "stream",
     "text": [
      "Original array :  [ 10  20  30  40  50  60  70  80  90 100]\n",
      "\n",
      "Series : \n",
      " 0     10\n",
      "1     20\n",
      "2     30\n",
      "3     40\n",
      "4     50\n",
      "5     60\n",
      "6     70\n",
      "7     80\n",
      "8     90\n",
      "9    100\n",
      "dtype: int8\n"
     ]
    }
   ],
   "source": [
    "def main():\n",
    "\tarray = np.arange(10,110,10)\n",
    "\tprint(\"Original array : \",array)\n",
    "     \n",
    "\tseries = pd.Series(array,dtype='int8')\n",
    "\tprint(\"\\nSeries : \\n\",series)\n",
    "     \n",
    "if __name__ == \"__main__\":\n",
    "  main()\n",
    "  "
   ]
  },
  {
   "cell_type": "code",
   "execution_count": null,
   "metadata": {},
   "outputs": [],
   "source": []
  }
 ],
 "metadata": {
  "kernelspec": {
   "display_name": "Python 3",
   "language": "python",
   "name": "python3"
  },
  "language_info": {
   "codemirror_mode": {
    "name": "ipython",
    "version": 3
   },
   "file_extension": ".py",
   "mimetype": "text/x-python",
   "name": "python",
   "nbconvert_exporter": "python",
   "pygments_lexer": "ipython3",
   "version": "3.12.4"
  }
 },
 "nbformat": 4,
 "nbformat_minor": 2
}
