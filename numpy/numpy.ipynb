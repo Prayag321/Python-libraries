{
 "cells": [
  {
   "cell_type": "markdown",
   "metadata": {},
   "source": [
    "\"\"\"<br>\n",
    "    @Author: Prayag Bhoir<br>\n",
    "    @Date: 5-08-2024 <br>\n",
    "    @Last Modified by: Prayag Bhoir<br>\n",
    "    @Last Modified time: 5-08-2024 <br>\n",
    "    @Title : Python programs on numpy<br>\n",
    "\"\"\""
   ]
  },
  {
   "cell_type": "code",
   "execution_count": 2,
   "metadata": {},
   "outputs": [],
   "source": [
    "import numpy as np"
   ]
  },
  {
   "cell_type": "markdown",
   "metadata": {},
   "source": [
    "## 1. Write a Python program to convert a list of numeric value into a one-dimensional\n",
    "NumPy array.<br>\n",
    "Expected Output:\n",
    "Original List: [12.23, 13.32, 100, 36.32]<br>\n",
    "One-dimensional numpy array: [ 12.23 13.32 100. 36.32]"
   ]
  },
  {
   "cell_type": "code",
   "execution_count": 3,
   "metadata": {},
   "outputs": [
    {
     "name": "stdout",
     "output_type": "stream",
     "text": [
      "[1, 2, 3, 4] <class 'list'>\n",
      "[1 2 3 4] <class 'numpy.ndarray'>\n"
     ]
    }
   ],
   "source": [
    "\n",
    "def main():\n",
    "\n",
    "  lst=[1,2,3,4]\n",
    "  print(lst,type(lst))\n",
    "\n",
    "  np_array = np.array(lst, np.int8)\n",
    "  print(np_array,type(np_array))\n",
    "\n",
    "if __name__==\"__main__\":\n",
    "  main()\n"
   ]
  },
  {
   "cell_type": "markdown",
   "metadata": {},
   "source": [
    "## 2. Create a 3x3 matrix with values ranging from 2 to 10.\n",
    "Expected Output:<br>\n",
    "[[ 2 3 4]<br>\n",
    "[ 5 6 7]<br>\n",
    "[ 8 9 10]]"
   ]
  },
  {
   "cell_type": "code",
   "execution_count": 4,
   "metadata": {},
   "outputs": [
    {
     "name": "stdout",
     "output_type": "stream",
     "text": [
      "The 3x3 matrix ranging from 2-10 :\n",
      " [[ 2  3  4]\n",
      " [ 5  6  7]\n",
      " [ 8  9 10]]\n"
     ]
    }
   ],
   "source": [
    "\n",
    "def main():\n",
    "\tmatrix = np.arange(2,11).reshape(3,3)\n",
    "\tprint(\"The 3x3 matrix ranging from 2-10 :\\n\",matrix)\n",
    "\n",
    "if __name__==\"__main__\":\n",
    "  \tmain()"
   ]
  },
  {
   "cell_type": "markdown",
   "metadata": {},
   "source": [
    "## 3. Write a Python program to create a null vector of size 10 and update sixth value to 11.  \n",
    "[ 0. 0. 0. 0. 0. 0. 0. 0. 0. 0.]  <br>\n",
    "Update sixth value to 11  <br>\n",
    "[ 0. 0. 0. 0. 0. 0. 11. 0. 0. 0.] "
   ]
  },
  {
   "cell_type": "code",
   "execution_count": 5,
   "metadata": {},
   "outputs": [
    {
     "name": "stdout",
     "output_type": "stream",
     "text": [
      "[ 0  0  0  0  0 11  0  0  0  0]\n"
     ]
    }
   ],
   "source": [
    "def main():\n",
    "\tmatrix = np.zeros(10,dtype=int)\n",
    "\tmatrix[6-1]=11\n",
    "\tprint(matrix)\n",
    "\t\n",
    "\n",
    "if __name__==\"__main__\":\n",
    "  \tmain()"
   ]
  },
  {
   "cell_type": "markdown",
   "metadata": {},
   "source": [
    "\t\n",
    "## 4. Write a Python program to reverse an array (first element becomes last).\n",
    "Original array:\n",
    "[12 13 14 15 16 17 18 19 20 21 22 23 24 25 26 27 28 29 30 31 32 33 34 35 36 37]<br>\n",
    "Reverse array:\n",
    "[37 36 35 34 33 32 31 30 29 28 27 26 25 24 23 22 21 20 19 18 17 16 15 14 13 12]"
   ]
  },
  {
   "cell_type": "code",
   "execution_count": 6,
   "metadata": {},
   "outputs": [
    {
     "name": "stdout",
     "output_type": "stream",
     "text": [
      "Original Array: [ 0  1  2  3  4  5  6  7  8  9 10]\n",
      "Reverse array: [10  9  8  7  6  5  4  3  2  1  0]\n"
     ]
    }
   ],
   "source": [
    "def reverse_array(arr):\n",
    "\t\"\"\"\n",
    "    Description:\n",
    "      This function reverse the given array\n",
    "    Parameters:\n",
    "      arr(array): Array of items/int\n",
    "\n",
    "    Returns:\n",
    "      array : Reverse the array \n",
    "    \"\"\"\t\n",
    "\treturn np.flip(arr)\n",
    "\n",
    "def main():\n",
    "\tarr = np.arange(11)\n",
    "\tprint(f\"Original Array: {arr}\")\n",
    "\tprint(f\"Reverse array: {reverse_array(arr)}\")\n",
    "\t\n",
    "\n",
    "if __name__==\"__main__\":\n",
    "  \tmain()"
   ]
  },
  {
   "cell_type": "markdown",
   "metadata": {},
   "source": [
    "## 5. Write a Python program to create a 2d array with 1 on the border and 0 inside.\n",
    "\n",
    "\n",
    "Expected Output:\n",
    "<br>\n",
    "Original array:<br>\n",
    "[[ 1. 1. 1. 1. 1.]<br>\n",
    "[ 1. 1. 1. 1. 1.]<br>\n",
    "[ 1. 1. 1. 1. 1.]<br>\n",
    "[ 1. 1. 1. 1. 1.]<br>\n",
    "[ 1. 1. 1. 1. 1.]]<br><br>\n",
    "1 on the border and 0 inside in the array<br>\n",
    "[[ 1. 1. 1. 1. 1.]<br>\n",
    "[ 1. 0. 0. 0. 1.]<br>\n",
    "[ 1. 0. 0. 0. 1.]<br>\n",
    "[ 1. 0. 0. 0. 1.]<br>\n",
    "[ 1. 1. 1. 1. 1.]]"
   ]
  },
  {
   "cell_type": "code",
   "execution_count": 7,
   "metadata": {},
   "outputs": [
    {
     "name": "stdout",
     "output_type": "stream",
     "text": [
      "Original array : \n",
      " [[1. 1. 1. 1. 1.]\n",
      " [1. 1. 1. 1. 1.]\n",
      " [1. 1. 1. 1. 1.]\n",
      " [1. 1. 1. 1. 1.]\n",
      " [1. 1. 1. 1. 1.]]\n",
      "\n",
      "Modified array : \n",
      " [[1. 1. 1. 1. 1.]\n",
      " [1. 0. 0. 0. 1.]\n",
      " [1. 0. 0. 0. 1.]\n",
      " [1. 0. 0. 0. 1.]\n",
      " [1. 1. 1. 1. 1.]]\n"
     ]
    }
   ],
   "source": [
    "def main():\n",
    "\tarr = np.ones((5,5))\n",
    "\tprint(\"Original array : \\n\",arr)\n",
    "\tarr[1:-1,1:-1]=0\n",
    "\tprint(\"\\nModified array : \\n\",arr)\n",
    "\t\n",
    "\n",
    "if __name__==\"__main__\":\n",
    "  \tmain()"
   ]
  },
  {
   "cell_type": "markdown",
   "metadata": {},
   "source": [
    "## 6. Write a Python program to add a border (filled with 0's) around an existing array.  \n",
    "Expected Output: <br>\n",
    "Original array:  <br>\n",
    "[[ 1. 1. 1.]  <br>\n",
    "[ 1. 1. 1.]  <br>\n",
    "[ 1. 1. 1.]]  <br>\n",
    "1 on the border and 0 inside in the array  <br><br>\n",
    "[[ 0. 0. 0. 0. 0.]  <br>\n",
    "[ 0. 1. 1. 1. 0.]  <br>\n",
    "[ 0. 1. 1. 1. 0.]  <br>\n",
    "[ 0. 1. 1. 1. 0.]  <br>\n",
    "[ 0. 0. 0. 0. 0.]]"
   ]
  },
  {
   "cell_type": "code",
   "execution_count": 13,
   "metadata": {},
   "outputs": [
    {
     "name": "stdout",
     "output_type": "stream",
     "text": [
      "Original array : \n",
      " [[1. 1. 1.]\n",
      " [1. 1. 1.]\n",
      " [1. 1. 1.]]\n",
      "\n",
      "Modified array : \n",
      " [[0. 0. 0. 0. 0.]\n",
      " [0. 1. 1. 1. 0.]\n",
      " [0. 1. 1. 1. 0.]\n",
      " [0. 1. 1. 1. 0.]\n",
      " [0. 0. 0. 0. 0.]]\n"
     ]
    }
   ],
   "source": [
    "def main():\n",
    "\tarr = np.ones((3,3))\n",
    "\tprint(\"Original array : \\n\",arr)\n",
    "\tarr = np.pad(arr,pad_width=1,mode='constant',constant_values=0)\n",
    "\tprint(\"\\nModified array : \\n\",arr)\n",
    "\t\n",
    "\n",
    "if __name__==\"__main__\":\n",
    "  \tmain()"
   ]
  },
  {
   "cell_type": "markdown",
   "metadata": {},
   "source": [
    "## 7. Write a Python program to create a 8x8 matrix and fill it with a checkerboard pattern.  \n",
    "Checkerboard pattern: <br>\n",
    "[[0 1 0 1 0 1 0 1]  <br>\n",
    "[1 0 1 0 1 0 1 0]  <br>\n",
    "[0 1 0 1 0 1 0 1]  <br>\n",
    "[1 0 1 0 1 0 1 0]  <br>\n",
    "[0 1 0 1 0 1 0 1]  <br>\n",
    "[1 0 1 0 1 0 1 0]  <br>\n",
    "[0 1 0 1 0 1 0 1]  <br>\n",
    "[1 0 1 0 1 0 1 0]]"
   ]
  },
  {
   "cell_type": "code",
   "execution_count": 19,
   "metadata": {},
   "outputs": [
    {
     "name": "stdout",
     "output_type": "stream",
     "text": [
      "[[1 0 1 0 1 0 1 0]\n",
      " [0 1 0 1 0 1 0 1]\n",
      " [1 0 1 0 1 0 1 0]\n",
      " [0 1 0 1 0 1 0 1]\n",
      " [1 0 1 0 1 0 1 0]\n",
      " [0 1 0 1 0 1 0 1]\n",
      " [1 0 1 0 1 0 1 0]\n",
      " [0 1 0 1 0 1 0 1]]\n"
     ]
    }
   ],
   "source": [
    "def main():\n",
    "\tmatrix = np.zeros((8,8), dtype=int)\n",
    "\tmatrix[::2, ::2] = 1  # Set the elements at even indices to 1\n",
    "\tmatrix[1::2, 1::2] = 1  # Set the elements at odd indices to 1\n",
    "\tprint(matrix)\n",
    "\n",
    "if __name__==\"__main__\":\n",
    "  main()"
   ]
  },
  {
   "cell_type": "markdown",
   "metadata": {},
   "source": [
    "## 8. Write a Python program to convert a list and tuple into arrays.  \n",
    "List to array: <br>\n",
    "[1 2 3 4 5 6 7 8]  <br><br>\n",
    "Tuple to array: <br>\n",
    "[[8 4 6]  <br>\n",
    "[1 2 3]]"
   ]
  },
  {
   "cell_type": "code",
   "execution_count": 30,
   "metadata": {},
   "outputs": [
    {
     "name": "stdout",
     "output_type": "stream",
     "text": [
      "List to array:\n",
      "[1 2 3 4 5 6 7 8]\n",
      "\n",
      "Tuple to array:\n",
      "[[8 4 6]\n",
      " [1 2 3]]\n"
     ]
    }
   ],
   "source": [
    "def main():\n",
    "\tlst = [1, 2, 3, 4, 5, 6, 7, 8]\n",
    "\ttpl = ((8, 4, 6), (1, 2, 3))\n",
    "\n",
    "\tprint(\"List to array:\")\n",
    "\tprint(np.array(lst))\n",
    "\n",
    "\tprint(\"\\nTuple to array:\")\n",
    "\tprint(np.array(tpl))\n",
    "    \n",
    "if __name__==\"__main__\":\n",
    "  main()"
   ]
  },
  {
   "cell_type": "markdown",
   "metadata": {},
   "source": [
    "## 9. Write a Python program to append values to the end of an array.  \n",
    "Expected Output: <br>\n",
    "Original array:<br> \n",
    "[10, 20, 30]  "
   ]
  },
  {
   "cell_type": "code",
   "execution_count": 33,
   "metadata": {},
   "outputs": [
    {
     "name": "stdout",
     "output_type": "stream",
     "text": [
      "Original array:\n",
      "[10 20 30]\n",
      "\n",
      "Array after appending values:\n",
      "[10 20 30 40 50 60]\n"
     ]
    }
   ],
   "source": [
    "def append_to_array(array, values):\n",
    "  \"\"\"\n",
    "\tDescription:\n",
    "    Append values to the end of a NumPy array.\n",
    "    \n",
    "  Parameters:\n",
    "      array (np.ndarray): The original NumPy array.\n",
    "      values (list or np.ndarray): Values to be appended.\n",
    "    \n",
    "  Returns:\n",
    "      np.ndarray(array): The updated NumPy array with appended values.\n",
    "    \"\"\"\n",
    "  return np.append(array, values)\n",
    "\n",
    "def main():\n",
    "  original_array = np.array([10, 20, 30])\n",
    "  values_to_append = [40, 50, 60]\n",
    "\n",
    "  updated_array = append_to_array(original_array, values_to_append)\n",
    "    \n",
    "  print(\"Original array:\")\n",
    "  print(original_array)\n",
    "    \n",
    "  print(\"\\nArray after appending values:\")\n",
    "  print(updated_array)\n",
    "\n",
    "if __name__ == \"__main__\":\n",
    "  main()"
   ]
  }
 ],
 "metadata": {
  "kernelspec": {
   "display_name": "Python 3",
   "language": "python",
   "name": "python3"
  },
  "language_info": {
   "codemirror_mode": {
    "name": "ipython",
    "version": 3
   },
   "file_extension": ".py",
   "mimetype": "text/x-python",
   "name": "python",
   "nbconvert_exporter": "python",
   "pygments_lexer": "ipython3",
   "version": "3.12.4"
  }
 },
 "nbformat": 4,
 "nbformat_minor": 2
}
