{
 "cells": [
  {
   "cell_type": "markdown",
   "metadata": {},
   "source": [
    "\"\"\"<br>\n",
    "    @Author: Prayag Bhoir<br>\n",
    "    @Date: 5-08-2024 <br>\n",
    "    @Last Modified by: Prayag Bhoir<br>\n",
    "    @Last Modified time: 5-08-2024 <br>\n",
    "    @Title : Python programs on numpy<br>\n",
    "\"\"\""
   ]
  },
  {
   "cell_type": "code",
   "execution_count": 2,
   "metadata": {},
   "outputs": [],
   "source": [
    "import numpy as np"
   ]
  },
  {
   "cell_type": "markdown",
   "metadata": {},
   "source": [
    "## 1. Write a Python program to convert a list of numeric value into a one-dimensional\n",
    "NumPy array.<br>\n",
    "Expected Output:\n",
    "Original List: [12.23, 13.32, 100, 36.32]<br>\n",
    "One-dimensional numpy array: [ 12.23 13.32 100. 36.32]"
   ]
  },
  {
   "cell_type": "code",
   "execution_count": 3,
   "metadata": {},
   "outputs": [
    {
     "name": "stdout",
     "output_type": "stream",
     "text": [
      "[1, 2, 3, 4] <class 'list'>\n",
      "[1 2 3 4] <class 'numpy.ndarray'>\n"
     ]
    }
   ],
   "source": [
    "\n",
    "def main():\n",
    "\n",
    "  lst=[1,2,3,4]\n",
    "  print(lst,type(lst))\n",
    "\n",
    "  np_array = np.array(lst, np.int8)\n",
    "  print(np_array,type(np_array))\n",
    "\n",
    "if __name__==\"__main__\":\n",
    "  main()\n"
   ]
  },
  {
   "cell_type": "markdown",
   "metadata": {},
   "source": [
    "## 2. Create a 3x3 matrix with values ranging from 2 to 10.\n",
    "Expected Output:<br>\n",
    "[[ 2 3 4]<br>\n",
    "[ 5 6 7]<br>\n",
    "[ 8 9 10]]"
   ]
  },
  {
   "cell_type": "code",
   "execution_count": 4,
   "metadata": {},
   "outputs": [
    {
     "name": "stdout",
     "output_type": "stream",
     "text": [
      "The 3x3 matrix ranging from 2-10 :\n",
      " [[ 2  3  4]\n",
      " [ 5  6  7]\n",
      " [ 8  9 10]]\n"
     ]
    }
   ],
   "source": [
    "\n",
    "def main():\n",
    "\tmatrix = np.arange(2,11).reshape(3,3)\n",
    "\tprint(\"The 3x3 matrix ranging from 2-10 :\\n\",matrix)\n",
    "\n",
    "if __name__==\"__main__\":\n",
    "  \tmain()"
   ]
  },
  {
   "cell_type": "markdown",
   "metadata": {},
   "source": [
    "## 3. Write a Python program to create a null vector of size 10 and update sixth value to 11.  \n",
    "[ 0. 0. 0. 0. 0. 0. 0. 0. 0. 0.]  <br>\n",
    "Update sixth value to 11  <br>\n",
    "[ 0. 0. 0. 0. 0. 0. 11. 0. 0. 0.] "
   ]
  },
  {
   "cell_type": "code",
   "execution_count": 5,
   "metadata": {},
   "outputs": [
    {
     "name": "stdout",
     "output_type": "stream",
     "text": [
      "[ 0  0  0  0  0 11  0  0  0  0]\n"
     ]
    }
   ],
   "source": [
    "def main():\n",
    "\tmatrix = np.zeros(10,dtype=int)\n",
    "\tmatrix[6-1]=11\n",
    "\tprint(matrix)\n",
    "\t\n",
    "\n",
    "if __name__==\"__main__\":\n",
    "  \tmain()"
   ]
  },
  {
   "cell_type": "markdown",
   "metadata": {},
   "source": [
    "\t\n",
    "## 4. Write a Python program to reverse an array (first element becomes last).\n",
    "Original array:\n",
    "[12 13 14 15 16 17 18 19 20 21 22 23 24 25 26 27 28 29 30 31 32 33 34 35 36 37]<br>\n",
    "Reverse array:\n",
    "[37 36 35 34 33 32 31 30 29 28 27 26 25 24 23 22 21 20 19 18 17 16 15 14 13 12]"
   ]
  },
  {
   "cell_type": "code",
   "execution_count": 27,
   "metadata": {},
   "outputs": [
    {
     "name": "stdout",
     "output_type": "stream",
     "text": [
      "Original Array: [ 0  1  2  3  4  5  6  7  8  9 10]\n",
      "Reverse array: [10  9  8  7  6  5  4  3  2  1  0]\n"
     ]
    }
   ],
   "source": [
    "def reverse_array(arr):\n",
    "\t\"\"\"\n",
    "    Description:\n",
    "      This function reverse the given array\n",
    "    Parameters:\n",
    "      arr(array): Array of items/int\n",
    "\n",
    "    Returns:\n",
    "      array : Reverse the array \n",
    "    \"\"\"\t\n",
    "\treturn np.flip(arr)\n",
    "\n",
    "def main():\n",
    "\tarr = np.arange(11)\n",
    "\tprint(f\"Original Array: {arr}\")\n",
    "\tprint(f\"Reverse array: {reverse_array(arr)}\")\n",
    "\t\n",
    "\n",
    "if __name__==\"__main__\":\n",
    "  \tmain()"
   ]
  },
  {
   "cell_type": "markdown",
   "metadata": {},
   "source": [
    "## 5. Write a Python program to create a 2d array with 1 on the border and 0 inside.\n",
    "\n",
    "\n",
    "Expected Output:\n",
    "<br>\n",
    "Original array:<br>\n",
    "[[ 1. 1. 1. 1. 1.]<br>\n",
    "[ 1. 1. 1. 1. 1.]<br>\n",
    "[ 1. 1. 1. 1. 1.]<br>\n",
    "[ 1. 1. 1. 1. 1.]<br>\n",
    "[ 1. 1. 1. 1. 1.]]<br><br>\n",
    "1 on the border and 0 inside in the array<br>\n",
    "[[ 1. 1. 1. 1. 1.]<br>\n",
    "[ 1. 0. 0. 0. 1.]<br>\n",
    "[ 1. 0. 0. 0. 1.]<br>\n",
    "[ 1. 0. 0. 0. 1.]<br>\n",
    "[ 1. 1. 1. 1. 1.]]"
   ]
  },
  {
   "cell_type": "code",
   "execution_count": 7,
   "metadata": {},
   "outputs": [
    {
     "name": "stdout",
     "output_type": "stream",
     "text": [
      "Original array : \n",
      " [[1. 1. 1. 1. 1.]\n",
      " [1. 1. 1. 1. 1.]\n",
      " [1. 1. 1. 1. 1.]\n",
      " [1. 1. 1. 1. 1.]\n",
      " [1. 1. 1. 1. 1.]]\n",
      "\n",
      "Modified array : \n",
      " [[1. 1. 1. 1. 1.]\n",
      " [1. 0. 0. 0. 1.]\n",
      " [1. 0. 0. 0. 1.]\n",
      " [1. 0. 0. 0. 1.]\n",
      " [1. 1. 1. 1. 1.]]\n"
     ]
    }
   ],
   "source": [
    "def main():\n",
    "\tarr = np.ones((5,5))\n",
    "\tprint(\"Original array : \\n\",arr)\n",
    "\tarr[1:-1,1:-1]=0\n",
    "\tprint(\"\\nModified array : \\n\",arr)\n",
    "\t\n",
    "\n",
    "if __name__==\"__main__\":\n",
    "  \tmain()"
   ]
  },
  {
   "cell_type": "markdown",
   "metadata": {},
   "source": [
    "## 6. Write a Python program to add a border (filled with 0's) around an existing array.  \n",
    "Expected Output: <br>\n",
    "Original array:  <br>\n",
    "[[ 1. 1. 1.]  <br>\n",
    "[ 1. 1. 1.]  <br>\n",
    "[ 1. 1. 1.]]  <br>\n",
    "1 on the border and 0 inside in the array  <br><br>\n",
    "[[ 0. 0. 0. 0. 0.]  <br>\n",
    "[ 0. 1. 1. 1. 0.]  <br>\n",
    "[ 0. 1. 1. 1. 0.]  <br>\n",
    "[ 0. 1. 1. 1. 0.]  <br>\n",
    "[ 0. 0. 0. 0. 0.]]"
   ]
  },
  {
   "cell_type": "code",
   "execution_count": 8,
   "metadata": {},
   "outputs": [
    {
     "name": "stdout",
     "output_type": "stream",
     "text": [
      "Original array : \n",
      " [[1. 1. 1.]\n",
      " [1. 1. 1.]\n",
      " [1. 1. 1.]]\n",
      "\n",
      "Modified array : \n",
      " [[0. 0. 0. 0. 0.]\n",
      " [0. 1. 1. 1. 0.]\n",
      " [0. 1. 1. 1. 0.]\n",
      " [0. 1. 1. 1. 0.]\n",
      " [0. 0. 0. 0. 0.]]\n"
     ]
    }
   ],
   "source": [
    "def main():\n",
    "\tarr = np.ones((3,3))\n",
    "\tprint(\"Original array : \\n\",arr)\n",
    "\tarr = np.pad(arr,pad_width=1,mode='constant',constant_values=0)\n",
    "\tprint(\"\\nModified array : \\n\",arr)\n",
    "\t\n",
    "\n",
    "if __name__==\"__main__\":\n",
    "  \tmain()"
   ]
  },
  {
   "cell_type": "markdown",
   "metadata": {},
   "source": [
    "## 7. Write a Python program to create a 8x8 matrix and fill it with a checkerboard pattern.  \n",
    "Checkerboard pattern: <br>\n",
    "[[0 1 0 1 0 1 0 1]  <br>\n",
    "[1 0 1 0 1 0 1 0]  <br>\n",
    "[0 1 0 1 0 1 0 1]  <br>\n",
    "[1 0 1 0 1 0 1 0]  <br>\n",
    "[0 1 0 1 0 1 0 1]  <br>\n",
    "[1 0 1 0 1 0 1 0]  <br>\n",
    "[0 1 0 1 0 1 0 1]  <br>\n",
    "[1 0 1 0 1 0 1 0]]"
   ]
  },
  {
   "cell_type": "code",
   "execution_count": 9,
   "metadata": {},
   "outputs": [
    {
     "name": "stdout",
     "output_type": "stream",
     "text": [
      "[[1 0 1 0 1 0 1 0]\n",
      " [0 1 0 1 0 1 0 1]\n",
      " [1 0 1 0 1 0 1 0]\n",
      " [0 1 0 1 0 1 0 1]\n",
      " [1 0 1 0 1 0 1 0]\n",
      " [0 1 0 1 0 1 0 1]\n",
      " [1 0 1 0 1 0 1 0]\n",
      " [0 1 0 1 0 1 0 1]]\n"
     ]
    }
   ],
   "source": [
    "def main():\n",
    "\tmatrix = np.zeros((8,8), dtype=int)\n",
    "\tmatrix[::2, ::2] = 1  # Set the elements at even indices to 1\n",
    "\tmatrix[1::2, 1::2] = 1  # Set the elements at odd indices to 1\n",
    "\tprint(matrix)\n",
    "\n",
    "if __name__==\"__main__\":\n",
    "  main()"
   ]
  },
  {
   "cell_type": "markdown",
   "metadata": {},
   "source": [
    "## 8. Write a Python program to convert a list and tuple into arrays.  \n",
    "List to array: <br>\n",
    "[1 2 3 4 5 6 7 8]  <br><br>\n",
    "Tuple to array: <br>\n",
    "[[8 4 6]  <br>\n",
    "[1 2 3]]"
   ]
  },
  {
   "cell_type": "code",
   "execution_count": 29,
   "metadata": {},
   "outputs": [
    {
     "name": "stdout",
     "output_type": "stream",
     "text": [
      "List to array:\n",
      "[1 2 3 4 5 6 7 8]\n",
      "\n",
      "Tuple to array:\n",
      "[[8 4 6]\n",
      " [1 2 3]] [0. 0. 0.]\n"
     ]
    }
   ],
   "source": [
    "def main():\n",
    "\tlst = [1, 2, 3, 4, 5, 6, 7, 8]\n",
    "\ttpl = ((8, 4, 6), (1, 2, 3))\n",
    "\n",
    "\tprint(\"List to array:\")\n",
    "\tprint(np.array(lst))\n",
    "\n",
    "\tprint(\"\\nTuple to array:\")\n",
    "\tprint(np.array(tpl))\n",
    "    \n",
    "if __name__==\"__main__\":\n",
    "  main()"
   ]
  },
  {
   "cell_type": "markdown",
   "metadata": {},
   "source": [
    "## 9. Write a Python program to append values to the end of an array.  \n",
    "Expected Output: <br>\n",
    "Original array:<br> \n",
    "[10, 20, 30]  "
   ]
  },
  {
   "cell_type": "code",
   "execution_count": 11,
   "metadata": {},
   "outputs": [
    {
     "name": "stdout",
     "output_type": "stream",
     "text": [
      "Original array:\n",
      "[10 20 30]\n",
      "\n",
      "Array after appending values:\n",
      "[10 20 30 40 50 60]\n"
     ]
    }
   ],
   "source": [
    "def append_to_array(array, values):\n",
    "  \"\"\"\n",
    "\tDescription:\n",
    "    Append values to the end of a NumPy array.\n",
    "    \n",
    "  Parameters:\n",
    "      array (np.ndarray): The original NumPy array.\n",
    "      values (list or np.ndarray): Values to be appended.\n",
    "    \n",
    "  Returns:\n",
    "      np.ndarray(array): The updated NumPy array with appended values.\n",
    "    \"\"\"\n",
    "  return np.append(array, values)\n",
    "\n",
    "def main():\n",
    "  original_array = np.array([10, 20, 30])\n",
    "  values_to_append = [40, 50, 60]\n",
    "\n",
    "  updated_array = append_to_array(original_array, values_to_append)\n",
    "    \n",
    "  print(\"Original array:\")\n",
    "  print(original_array)\n",
    "    \n",
    "  print(\"\\nArray after appending values:\")\n",
    "  print(updated_array)\n",
    "\n",
    "if __name__ == \"__main__\":\n",
    "  main()"
   ]
  },
  {
   "cell_type": "markdown",
   "metadata": {},
   "source": [
    "## 10. Write a Python program to find the real and imaginary parts of an array of complex numbers.  \n",
    "Expected Output: <br>\n",
    "Original array [ 1.00000000+0.j 0.70710678+0.70710678j] <br> <br>\n",
    "Real part of the array:  <br>\n",
    "[ 1. 0.70710678]  <br><br>\n",
    "Imaginary part of the array: <br>\n",
    "[ 0. 0.70710678]  "
   ]
  },
  {
   "cell_type": "code",
   "execution_count": 12,
   "metadata": {},
   "outputs": [
    {
     "name": "stdout",
     "output_type": "stream",
     "text": [
      "Complex numbers: [1.+9.j 2.+7.j]\n",
      "Real : [1. 2.] Imaginary: [9. 7.]\n"
     ]
    }
   ],
   "source": [
    "def main():\n",
    "\tcomplex_array = np.array([1 + 9j, 2 + 7j])\n",
    "\tprint(f\"Complex numbers: {complex_array}\")\n",
    "\tprint(f\"Real : {np.real(complex_array)} Imaginary: {np.imag(complex_array)}\")\n",
    "\n",
    "if __name__==\"__main__\":\n",
    "  main()"
   ]
  },
  {
   "cell_type": "markdown",
   "metadata": {},
   "source": [
    "## 11. Write a Python program to find the number of elements of an array, length of one array element in bytes and total bytes consumed by the elements.  \n",
    "Expected Output: <br>\n",
    "Size of the array: 3 <br>\n",
    "Length of one array element in bytes: 8 <br> \n",
    "Total bytes consumed by the elements of the array: 24  "
   ]
  },
  {
   "cell_type": "code",
   "execution_count": 13,
   "metadata": {},
   "outputs": [
    {
     "name": "stdout",
     "output_type": "stream",
     "text": [
      "size of array: 3\n",
      "Length of one element in  byts: 8\n",
      "Total byts of array: 24\n"
     ]
    }
   ],
   "source": [
    "def main():\n",
    "\tarray = np.array([1, 2, 3])\n",
    "\tprint(f\"size of array: {array.size}\")\n",
    "\tprint(f\"Length of one element in  byts: {array.itemsize}\")\n",
    "\tprint(f\"Total byts of array: {array.itemsize*array.size}\")\n",
    "\n",
    "if __name__==\"__main__\":\n",
    "  main()"
   ]
  },
  {
   "cell_type": "markdown",
   "metadata": {},
   "source": [
    "## 12. Write a Python program to find common values between two arrays.  \n",
    "Expected Output: <br>\n",
    "Array1: [ 0 10 20 40 60] <br> \n",
    "Array2: [10, 30, 40] <br>\n",
    "Common values between two arrays: <br>\n",
    "[10 40]  "
   ]
  },
  {
   "cell_type": "code",
   "execution_count": 14,
   "metadata": {},
   "outputs": [
    {
     "name": "stdout",
     "output_type": "stream",
     "text": [
      "Array1: [ 0 10 20 40 60]\n",
      "Array2: [10 30 40]\n",
      "Common values between two arrays: [10 40]\n"
     ]
    }
   ],
   "source": [
    "def find_common_values(array1, array2):\n",
    "  \"\"\"\n",
    "\tDescription:\n",
    "    this function find common values between two NumPy arrays.\n",
    "    \n",
    "  Parameters:\n",
    "    array1 (np.ndarray): The first array.\n",
    "    array2 (np.ndarray): The second array.\n",
    "    \n",
    "  Returns:\n",
    "    np.ndarray: An array of common values between the two input arrays.\n",
    "    \"\"\"\n",
    "  return np.intersect1d(array1, array2)\n",
    "\n",
    "def main():\n",
    "    array1 = np.array([0, 10, 20, 40, 60])\n",
    "    array2 = np.array([10, 30, 40])\n",
    "    \n",
    "    common_values = find_common_values(array1, array2)\n",
    "    \n",
    "    print(f\"Array1: {array1}\")\n",
    "    print(f\"Array2: {array2}\")\n",
    "    print(f\"Common values between two arrays: {common_values}\")\n",
    "\n",
    "if __name__ == \"__main__\":\n",
    "    main()\n"
   ]
  },
  {
   "cell_type": "markdown",
   "metadata": {},
   "source": [
    "## 13. Write a Python program to find the set difference of two arrays. The set difference will return the sorted, unique values in array1 that are not in array2.  \n",
    "Expected Output:<br> \n",
    "Array1: [ 0 10 20 40 60 80] <br> \n",
    "Array2: [10, 30, 40, 50, 70, 90]  <br> \n",
    "Set difference between two arrays: <br> \n",
    "[ 0 20 60 80] "
   ]
  },
  {
   "cell_type": "code",
   "execution_count": 15,
   "metadata": {},
   "outputs": [
    {
     "name": "stdout",
     "output_type": "stream",
     "text": [
      "Array1: [ 0 10 20 40 60 80]\n",
      "Array2: [10 30 40 50 70 90]\n",
      "Set difference between two arrays: [ 0 20 60 80]\n"
     ]
    }
   ],
   "source": [
    "def find_set_difference(array1, array2):\n",
    "  \"\"\"\n",
    "\tDescription:\n",
    "    Find the set difference of two NumPy arrays.\n",
    "    \n",
    "  Parameters:\n",
    "    array1 (array): The first array.\n",
    "    array2 (array): The second array.\n",
    "    \n",
    "  Returns:\n",
    "    array: An array of values in array1 that are not in array2.\n",
    "    \"\"\"\n",
    "  return np.setdiff1d(array1, array2)\n",
    "\n",
    "def main():\n",
    "  array1 = np.array([0, 10, 20, 40, 60, 80])\n",
    "  array2 = np.array([10, 30, 40, 50, 70, 90])\n",
    "  \n",
    "  set_difference = find_set_difference(array1, array2)\n",
    "   \n",
    "  print(f\"Array1: {array1}\")\n",
    "  print(f\"Array2: {array2}\")\n",
    "  print(f\"Set difference between two arrays: {set_difference}\")\n",
    "\n",
    "if __name__ == \"__main__\":\n",
    "  main()\n"
   ]
  },
  {
   "cell_type": "markdown",
   "metadata": {},
   "source": [
    "## 14. Write a Python program to find the set exclusive-or of two arrays. Set exclusive-or will return the sorted, unique values that are in only one (not both) of the input arrays.  \n",
    "Array1: [ 0 10 20 40 60 80]  <br>\n",
    "Array2: [10, 30, 40, 50, 70] <br> \n",
    "Unique values that are in only one (not both) of the input arrays: <br> \n",
    "[ 0 20 30 50 60 70 80] \n"
   ]
  },
  {
   "cell_type": "code",
   "execution_count": 16,
   "metadata": {},
   "outputs": [
    {
     "name": "stdout",
     "output_type": "stream",
     "text": [
      "Array1: [ 0 10 20 40 60 80]\n",
      "Array2: [10 30 40 50 70]\n",
      "Unique values that are in only one (not both) of the input arrays: [ 0 20 30 50 60 70 80]\n"
     ]
    }
   ],
   "source": [
    "\n",
    "def find_set_exclusive_or(array1, array2):\n",
    "  \"\"\"\n",
    "\tDescription:\n",
    "  \tFind the set exclusive-or (symmetric difference) of two NumPy arrays.\n",
    "  \n",
    "  Parameters:\n",
    "  \tarray1 (array): The first array.\n",
    "  \tarray2 (array): The second array.\n",
    "  \n",
    "  Returns:\n",
    "  \tarray: An array of unique values that are in only one of the input arrays.\n",
    "  \"\"\"\n",
    "  return np.setxor1d(array1, array2)\n",
    "\n",
    "def main():\n",
    "  array1 = np.array([0, 10, 20, 40, 60, 80])\n",
    "  array2 = np.array([10, 30, 40, 50, 70])\n",
    "  \n",
    "  exclusive_or = find_set_exclusive_or(array1, array2)\n",
    "  \n",
    "  print(f\"Array1: {array1}\")\n",
    "  print(f\"Array2: {array2}\")\n",
    "  print(f\"Unique values that are in only one (not both) of the input arrays: {exclusive_or}\")\n",
    "\n",
    "if __name__ == \"__main__\":\n",
    "  main()\n"
   ]
  },
  {
   "cell_type": "markdown",
   "metadata": {},
   "source": [
    "## 15. Write a Python program compare two arrays using numpy.  \n",
    "Array a: [1 2] <br>\n",
    "Array b: [4 5] <br>\n",
    "a > b  <br>\n",
    "[False False] <br>\n",
    "a >= b  <br>\n",
    "[False False]  <br>\n",
    "a < b  <br>\n",
    "[ True True]  <br>\n",
    "a <= b  <br>\n",
    "[ True True]<br>"
   ]
  },
  {
   "cell_type": "code",
   "execution_count": 17,
   "metadata": {},
   "outputs": [
    {
     "name": "stdout",
     "output_type": "stream",
     "text": [
      "a > b \n",
      "[False  True]\n",
      "a >= b \n",
      "[False  True]\n",
      "a < b \n",
      "[ True False]\n",
      "a <= b \n",
      "[ True False]\n"
     ]
    }
   ],
   "source": [
    "\n",
    "def compare_arrays(a, b):\n",
    "  \"\"\"\n",
    "\tDescription:\n",
    "  \tCompare two NumPy arrays.\n",
    "  \n",
    "  Parameters:\n",
    "  \ta (array): The first array.\n",
    "  \tb (array): The second array.\n",
    "  \n",
    "  Returns:\n",
    "  \tdict: A dictionary containing the results of comparisons.\n",
    "  \"\"\"\n",
    "  return {\n",
    "    'a > b': a > b,\n",
    "    'a >= b': a >= b,\n",
    "    'a < b': a < b,\n",
    "    'a <= b': a <= b\n",
    "  }\n",
    "\n",
    "def main():\n",
    "\n",
    "  array1 = np.array([1, 6])\n",
    "  array2= np.array([4, 5])\n",
    "  \n",
    "  results = compare_arrays(array1,array2)\n",
    "  \n",
    "  for comparison, result in results.items():\n",
    "    print(f\"{comparison} \\n{result}\")\n",
    "\n",
    "if __name__ == \"__main__\":\n",
    "  main()\n"
   ]
  },
  {
   "cell_type": "markdown",
   "metadata": {},
   "source": [
    "## 16. Write a Python program to save a NumPy array to a text file.  "
   ]
  },
  {
   "cell_type": "code",
   "execution_count": 18,
   "metadata": {},
   "outputs": [],
   "source": [
    "def main():\n",
    "\tarray = np.array([1,2,3,4])\n",
    "\tnp.savetxt(\"file.txt\",array)\n",
    "if __name__ == \"__main__\":\n",
    "  main()\n"
   ]
  }
 ],
 "metadata": {
  "kernelspec": {
   "display_name": "Python 3",
   "language": "python",
   "name": "python3"
  },
  "language_info": {
   "codemirror_mode": {
    "name": "ipython",
    "version": 3
   },
   "file_extension": ".py",
   "mimetype": "text/x-python",
   "name": "python",
   "nbconvert_exporter": "python",
   "pygments_lexer": "ipython3",
   "version": "3.12.4"
  }
 },
 "nbformat": 4,
 "nbformat_minor": 2
}
