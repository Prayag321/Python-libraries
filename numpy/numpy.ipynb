{
 "cells": [
  {
   "cell_type": "markdown",
   "metadata": {},
   "source": [
    "\"\"\"<br>\n",
    "    @Author: Prayag Bhoir<br>\n",
    "    @Date: 5-08-2024 <br>\n",
    "    @Last Modified by: Prayag Bhoir<br>\n",
    "    @Last Modified time: 5-08-2024 <br>\n",
    "    @Title : Python programs on numpy<br>\n",
    "\"\"\""
   ]
  },
  {
   "cell_type": "code",
   "execution_count": 29,
   "metadata": {},
   "outputs": [],
   "source": [
    "import numpy as np"
   ]
  },
  {
   "cell_type": "markdown",
   "metadata": {},
   "source": [
    "## 1. Write a Python program to convert a list of numeric value into a one-dimensional\n",
    "NumPy array.<br>\n",
    "Expected Output:\n",
    "Original List: [12.23, 13.32, 100, 36.32]<br>\n",
    "One-dimensional numpy array: [ 12.23 13.32 100. 36.32]"
   ]
  },
  {
   "cell_type": "code",
   "execution_count": 30,
   "metadata": {},
   "outputs": [
    {
     "name": "stdout",
     "output_type": "stream",
     "text": [
      "[1, 2, 3, 4] <class 'list'>\n",
      "[1 2 3 4] <class 'numpy.ndarray'>\n"
     ]
    }
   ],
   "source": [
    "\n",
    "def main():\n",
    "\n",
    "  lst=[1,2,3,4]\n",
    "  print(lst,type(lst))\n",
    "\n",
    "  np_array = np.array(lst, np.int8)\n",
    "  print(np_array,type(np_array))\n",
    "\n",
    "if __name__==\"__main__\":\n",
    "  main()\n"
   ]
  },
  {
   "cell_type": "markdown",
   "metadata": {},
   "source": [
    "## 2. Create a 3x3 matrix with values ranging from 2 to 10.\n",
    "Expected Output:<br>\n",
    "[[ 2 3 4]<br>\n",
    "[ 5 6 7]<br>\n",
    "[ 8 9 10]]"
   ]
  },
  {
   "cell_type": "code",
   "execution_count": 31,
   "metadata": {},
   "outputs": [
    {
     "name": "stdout",
     "output_type": "stream",
     "text": [
      "The 3x3 matrix ranging from 2-10 :\n",
      " [[ 2  3  4]\n",
      " [ 5  6  7]\n",
      " [ 8  9 10]]\n"
     ]
    }
   ],
   "source": [
    "\n",
    "def main():\n",
    "\tmatrix = np.arange(2,11).reshape(3,3)\n",
    "\tprint(\"The 3x3 matrix ranging from 2-10 :\\n\",matrix)\n",
    "\n",
    "if __name__==\"__main__\":\n",
    "  \tmain()"
   ]
  },
  {
   "cell_type": "markdown",
   "metadata": {},
   "source": [
    "## 3. Write a Python program to create a null vector of size 10 and update sixth value to 11.  \n",
    "[ 0. 0. 0. 0. 0. 0. 0. 0. 0. 0.]  <br>\n",
    "Update sixth value to 11  <br>\n",
    "[ 0. 0. 0. 0. 0. 0. 11. 0. 0. 0.] "
   ]
  },
  {
   "cell_type": "code",
   "execution_count": 32,
   "metadata": {},
   "outputs": [
    {
     "name": "stdout",
     "output_type": "stream",
     "text": [
      "[ 0  0  0  0  0 11  0  0  0  0]\n"
     ]
    }
   ],
   "source": [
    "def main():\n",
    "\tmatrix = np.zeros(10,dtype=int)\n",
    "\tmatrix[6-1]=11\n",
    "\tprint(matrix)\n",
    "\t\n",
    "\n",
    "if __name__==\"__main__\":\n",
    "  \tmain()"
   ]
  },
  {
   "cell_type": "markdown",
   "metadata": {},
   "source": [
    "\t\n",
    "## 4. Write a Python program to reverse an array (first element becomes last).\n",
    "Original array:\n",
    "[12 13 14 15 16 17 18 19 20 21 22 23 24 25 26 27 28 29 30 31 32 33 34 35 36 37]<br>\n",
    "Reverse array:\n",
    "[37 36 35 34 33 32 31 30 29 28 27 26 25 24 23 22 21 20 19 18 17 16 15 14 13 12]"
   ]
  },
  {
   "cell_type": "code",
   "execution_count": 33,
   "metadata": {},
   "outputs": [
    {
     "name": "stdout",
     "output_type": "stream",
     "text": [
      "Original Array: [ 0  1  2  3  4  5  6  7  8  9 10]\n",
      "Reverse array: [10  9  8  7  6  5  4  3  2  1  0]\n"
     ]
    }
   ],
   "source": [
    "def reverse_array(arr):\n",
    "\t\"\"\"\n",
    "    Description:\n",
    "      This function reverse the given array\n",
    "    Parameters:\n",
    "      arr(array): Array of items/int\n",
    "\n",
    "    Returns:\n",
    "      array : Reverse the array \n",
    "    \"\"\"\t\n",
    "\treturn np.flip(arr)\n",
    "\n",
    "def main():\n",
    "\tarr = np.arange(11)\n",
    "\tprint(f\"Original Array: {arr}\")\n",
    "\tprint(f\"Reverse array: {reverse_array(arr)}\")\n",
    "\t\n",
    "\n",
    "if __name__==\"__main__\":\n",
    "  \tmain()"
   ]
  },
  {
   "cell_type": "markdown",
   "metadata": {},
   "source": [
    "## 5. Write a Python program to create a 2d array with 1 on the border and 0 inside.\n",
    "\n",
    "\n",
    "Expected Output:\n",
    "<br>\n",
    "Original array:<br>\n",
    "[[ 1. 1. 1. 1. 1.]<br>\n",
    "[ 1. 1. 1. 1. 1.]<br>\n",
    "[ 1. 1. 1. 1. 1.]<br>\n",
    "[ 1. 1. 1. 1. 1.]<br>\n",
    "[ 1. 1. 1. 1. 1.]]<br><br>\n",
    "1 on the border and 0 inside in the array<br>\n",
    "[[ 1. 1. 1. 1. 1.]<br>\n",
    "[ 1. 0. 0. 0. 1.]<br>\n",
    "[ 1. 0. 0. 0. 1.]<br>\n",
    "[ 1. 0. 0. 0. 1.]<br>\n",
    "[ 1. 1. 1. 1. 1.]]"
   ]
  },
  {
   "cell_type": "code",
   "execution_count": 34,
   "metadata": {},
   "outputs": [
    {
     "name": "stdout",
     "output_type": "stream",
     "text": [
      "Original array : \n",
      " [[1. 1. 1. 1. 1.]\n",
      " [1. 1. 1. 1. 1.]\n",
      " [1. 1. 1. 1. 1.]\n",
      " [1. 1. 1. 1. 1.]\n",
      " [1. 1. 1. 1. 1.]]\n",
      "\n",
      "Modified array : \n",
      " [[1. 1. 1. 1. 1.]\n",
      " [1. 0. 0. 0. 1.]\n",
      " [1. 0. 0. 0. 1.]\n",
      " [1. 0. 0. 0. 1.]\n",
      " [1. 1. 1. 1. 1.]]\n"
     ]
    }
   ],
   "source": [
    "def main():\n",
    "\tarr = np.ones((5,5))\n",
    "\tprint(\"Original array : \\n\",arr)\n",
    "\tarr[1:-1,1:-1]=0\n",
    "\tprint(\"\\nModified array : \\n\",arr)\n",
    "\t\n",
    "\n",
    "if __name__==\"__main__\":\n",
    "  \tmain()"
   ]
  },
  {
   "cell_type": "markdown",
   "metadata": {},
   "source": [
    "## 6. Write a Python program to add a border (filled with 0's) around an existing array.  \n",
    "Expected Output: <br>\n",
    "Original array:  <br>\n",
    "[[ 1. 1. 1.]  <br>\n",
    "[ 1. 1. 1.]  <br>\n",
    "[ 1. 1. 1.]]  <br>\n",
    "1 on the border and 0 inside in the array  <br><br>\n",
    "[[ 0. 0. 0. 0. 0.]  <br>\n",
    "[ 0. 1. 1. 1. 0.]  <br>\n",
    "[ 0. 1. 1. 1. 0.]  <br>\n",
    "[ 0. 1. 1. 1. 0.]  <br>\n",
    "[ 0. 0. 0. 0. 0.]]"
   ]
  },
  {
   "cell_type": "code",
   "execution_count": 35,
   "metadata": {},
   "outputs": [
    {
     "name": "stdout",
     "output_type": "stream",
     "text": [
      "Original array : \n",
      " [[1. 1. 1.]\n",
      " [1. 1. 1.]\n",
      " [1. 1. 1.]]\n",
      "\n",
      "Modified array : \n",
      " [[0. 0. 0. 0. 0.]\n",
      " [0. 1. 1. 1. 0.]\n",
      " [0. 1. 1. 1. 0.]\n",
      " [0. 1. 1. 1. 0.]\n",
      " [0. 0. 0. 0. 0.]]\n"
     ]
    }
   ],
   "source": [
    "def main():\n",
    "\tarr = np.ones((3,3))\n",
    "\tprint(\"Original array : \\n\",arr)\n",
    "\tarr = np.pad(arr,pad_width=1,mode='constant',constant_values=0)\n",
    "\tprint(\"\\nModified array : \\n\",arr)\n",
    "\t\n",
    "\n",
    "if __name__==\"__main__\":\n",
    "  \tmain()"
   ]
  },
  {
   "cell_type": "markdown",
   "metadata": {},
   "source": [
    "## 7. Write a Python program to create a 8x8 matrix and fill it with a checkerboard pattern.  \n",
    "Checkerboard pattern: <br>\n",
    "[[0 1 0 1 0 1 0 1]  <br>\n",
    "[1 0 1 0 1 0 1 0]  <br>\n",
    "[0 1 0 1 0 1 0 1]  <br>\n",
    "[1 0 1 0 1 0 1 0]  <br>\n",
    "[0 1 0 1 0 1 0 1]  <br>\n",
    "[1 0 1 0 1 0 1 0]  <br>\n",
    "[0 1 0 1 0 1 0 1]  <br>\n",
    "[1 0 1 0 1 0 1 0]]"
   ]
  },
  {
   "cell_type": "code",
   "execution_count": 36,
   "metadata": {},
   "outputs": [
    {
     "name": "stdout",
     "output_type": "stream",
     "text": [
      "[[1 0 1 0 1 0 1 0]\n",
      " [0 1 0 1 0 1 0 1]\n",
      " [1 0 1 0 1 0 1 0]\n",
      " [0 1 0 1 0 1 0 1]\n",
      " [1 0 1 0 1 0 1 0]\n",
      " [0 1 0 1 0 1 0 1]\n",
      " [1 0 1 0 1 0 1 0]\n",
      " [0 1 0 1 0 1 0 1]]\n"
     ]
    }
   ],
   "source": [
    "def main():\n",
    "\tmatrix = np.zeros((8,8), dtype=int)\n",
    "\tmatrix[::2, ::2] = 1  # Set the elements at even indices to 1\n",
    "\tmatrix[1::2, 1::2] = 1  # Set the elements at odd indices to 1\n",
    "\tprint(matrix)\n",
    "\n",
    "if __name__==\"__main__\":\n",
    "  main()"
   ]
  },
  {
   "cell_type": "markdown",
   "metadata": {},
   "source": [
    "## 8. Write a Python program to convert a list and tuple into arrays.  \n",
    "List to array: <br>\n",
    "[1 2 3 4 5 6 7 8]  <br><br>\n",
    "Tuple to array: <br>\n",
    "[[8 4 6]  <br>\n",
    "[1 2 3]]"
   ]
  },
  {
   "cell_type": "code",
   "execution_count": 37,
   "metadata": {},
   "outputs": [
    {
     "name": "stdout",
     "output_type": "stream",
     "text": [
      "List to array:\n",
      "[1 2 3 4 5 6 7 8]\n",
      "\n",
      "Tuple to array:\n",
      "[[8 4 6]\n",
      " [1 2 3]]\n"
     ]
    }
   ],
   "source": [
    "def main():\n",
    "\tlst = [1, 2, 3, 4, 5, 6, 7, 8]\n",
    "\ttpl = ((8, 4, 6), (1, 2, 3))\n",
    "\n",
    "\tprint(\"List to array:\")\n",
    "\tprint(np.array(lst))\n",
    "\n",
    "\tprint(\"\\nTuple to array:\")\n",
    "\tprint(np.array(tpl))\n",
    "    \n",
    "if __name__==\"__main__\":\n",
    "  main()"
   ]
  },
  {
   "cell_type": "markdown",
   "metadata": {},
   "source": [
    "## 9. Write a Python program to append values to the end of an array.  \n",
    "Expected Output: <br>\n",
    "Original array:<br> \n",
    "[10, 20, 30]  "
   ]
  },
  {
   "cell_type": "code",
   "execution_count": 38,
   "metadata": {},
   "outputs": [
    {
     "name": "stdout",
     "output_type": "stream",
     "text": [
      "Original array:\n",
      "[10 20 30]\n",
      "\n",
      "Array after appending values:\n",
      "[10 20 30 40 50 60]\n"
     ]
    }
   ],
   "source": [
    "def append_to_array(array, values):\n",
    "  \"\"\"\n",
    "\tDescription:\n",
    "    Append values to the end of a NumPy array.\n",
    "    \n",
    "  Parameters:\n",
    "      array (np.ndarray): The original NumPy array.\n",
    "      values (list or np.ndarray): Values to be appended.\n",
    "    \n",
    "  Returns:\n",
    "      np.ndarray(array): The updated NumPy array with appended values.\n",
    "    \"\"\"\n",
    "  return np.append(array, values)\n",
    "\n",
    "def main():\n",
    "  original_array = np.array([10, 20, 30])\n",
    "  values_to_append = [40, 50, 60]\n",
    "\n",
    "  updated_array = append_to_array(original_array, values_to_append)\n",
    "    \n",
    "  print(\"Original array:\")\n",
    "  print(original_array)\n",
    "    \n",
    "  print(\"\\nArray after appending values:\")\n",
    "  print(updated_array)\n",
    "\n",
    "if __name__ == \"__main__\":\n",
    "  main()"
   ]
  },
  {
   "cell_type": "markdown",
   "metadata": {},
   "source": [
    "## 10. Write a Python program to find the real and imaginary parts of an array of complex numbers.  \n",
    "Expected Output: <br>\n",
    "Original array [ 1.00000000+0.j 0.70710678+0.70710678j] <br> <br>\n",
    "Real part of the array:  <br>\n",
    "[ 1. 0.70710678]  <br><br>\n",
    "Imaginary part of the array: <br>\n",
    "[ 0. 0.70710678]  "
   ]
  },
  {
   "cell_type": "code",
   "execution_count": 39,
   "metadata": {},
   "outputs": [
    {
     "name": "stdout",
     "output_type": "stream",
     "text": [
      "Complex numbers: [1.+9.j 2.+7.j]\n",
      "Real : [1. 2.] Imaginary: [9. 7.]\n"
     ]
    }
   ],
   "source": [
    "def main():\n",
    "\tcomplex_array = np.array([1 + 9j, 2 + 7j])\n",
    "\tprint(f\"Complex numbers: {complex_array}\")\n",
    "\tprint(f\"Real : {np.real(complex_array)} Imaginary: {np.imag(complex_array)}\")\n",
    "\n",
    "if __name__==\"__main__\":\n",
    "  main()"
   ]
  },
  {
   "cell_type": "markdown",
   "metadata": {},
   "source": [
    "## 11. Write a Python program to find the number of elements of an array, length of one array element in bytes and total bytes consumed by the elements.  \n",
    "Expected Output: <br>\n",
    "Size of the array: 3 <br>\n",
    "Length of one array element in bytes: 8 <br> \n",
    "Total bytes consumed by the elements of the array: 24  "
   ]
  },
  {
   "cell_type": "code",
   "execution_count": 40,
   "metadata": {},
   "outputs": [
    {
     "name": "stdout",
     "output_type": "stream",
     "text": [
      "size of array: 3\n",
      "Length of one element in  byts: 8\n",
      "Total byts of array: 24\n"
     ]
    }
   ],
   "source": [
    "def main():\n",
    "\tarray = np.array([1, 2, 3])\n",
    "\tprint(f\"size of array: {array.size}\")\n",
    "\tprint(f\"Length of one element in  byts: {array.itemsize}\")\n",
    "\tprint(f\"Total byts of array: {array.itemsize*array.size}\")\n",
    "\n",
    "if __name__==\"__main__\":\n",
    "  main()"
   ]
  },
  {
   "cell_type": "markdown",
   "metadata": {},
   "source": [
    "## 12. Write a Python program to find common values between two arrays.  \n",
    "Expected Output: <br>\n",
    "Array1: [ 0 10 20 40 60] <br> \n",
    "Array2: [10, 30, 40] <br>\n",
    "Common values between two arrays: <br>\n",
    "[10 40]  "
   ]
  },
  {
   "cell_type": "code",
   "execution_count": 41,
   "metadata": {},
   "outputs": [
    {
     "name": "stdout",
     "output_type": "stream",
     "text": [
      "Array1: [ 0 10 20 40 60]\n",
      "Array2: [10 30 40]\n",
      "Common values between two arrays: [10 40]\n"
     ]
    }
   ],
   "source": [
    "def find_common_values(array1, array2):\n",
    "  \"\"\"\n",
    "\tDescription:\n",
    "    this function find common values between two NumPy arrays.\n",
    "    \n",
    "  Parameters:\n",
    "    array1 (np.ndarray): The first array.\n",
    "    array2 (np.ndarray): The second array.\n",
    "    \n",
    "  Returns:\n",
    "    np.ndarray: An array of common values between the two input arrays.\n",
    "    \"\"\"\n",
    "  return np.intersect1d(array1, array2)\n",
    "\n",
    "def main():\n",
    "    array1 = np.array([0, 10, 20, 40, 60])\n",
    "    array2 = np.array([10, 30, 40])\n",
    "    \n",
    "    common_values = find_common_values(array1, array2)\n",
    "    \n",
    "    print(f\"Array1: {array1}\")\n",
    "    print(f\"Array2: {array2}\")\n",
    "    print(f\"Common values between two arrays: {common_values}\")\n",
    "\n",
    "if __name__ == \"__main__\":\n",
    "    main()\n"
   ]
  },
  {
   "cell_type": "markdown",
   "metadata": {},
   "source": [
    "## 13. Write a Python program to find the set difference of two arrays. The set difference will return the sorted, unique values in array1 that are not in array2.  \n",
    "Expected Output:<br> \n",
    "Array1: [ 0 10 20 40 60 80] <br> \n",
    "Array2: [10, 30, 40, 50, 70, 90]  <br> \n",
    "Set difference between two arrays: <br> \n",
    "[ 0 20 60 80] "
   ]
  },
  {
   "cell_type": "code",
   "execution_count": 42,
   "metadata": {},
   "outputs": [
    {
     "name": "stdout",
     "output_type": "stream",
     "text": [
      "Array1: [ 0 10 20 40 60 80]\n",
      "Array2: [10 30 40 50 70 90]\n",
      "Set difference between two arrays: [ 0 20 60 80]\n"
     ]
    }
   ],
   "source": [
    "def find_set_difference(array1, array2):\n",
    "  \"\"\"\n",
    "\tDescription:\n",
    "    Find the set difference of two NumPy arrays.\n",
    "    \n",
    "  Parameters:\n",
    "    array1 (array): The first array.\n",
    "    array2 (array): The second array.\n",
    "    \n",
    "  Returns:\n",
    "    array: An array of values in array1 that are not in array2.\n",
    "    \"\"\"\n",
    "  return np.setdiff1d(array1, array2)\n",
    "\n",
    "def main():\n",
    "  array1 = np.array([0, 10, 20, 40, 60, 80])\n",
    "  array2 = np.array([10, 30, 40, 50, 70, 90])\n",
    "  \n",
    "  set_difference = find_set_difference(array1, array2)\n",
    "   \n",
    "  print(f\"Array1: {array1}\")\n",
    "  print(f\"Array2: {array2}\")\n",
    "  print(f\"Set difference between two arrays: {set_difference}\")\n",
    "\n",
    "if __name__ == \"__main__\":\n",
    "  main()\n"
   ]
  },
  {
   "cell_type": "markdown",
   "metadata": {},
   "source": [
    "## 14. Write a Python program to find the set exclusive-or of two arrays. Set exclusive-or will return the sorted, unique values that are in only one (not both) of the input arrays.  \n",
    "Array1: [ 0 10 20 40 60 80]  <br>\n",
    "Array2: [10, 30, 40, 50, 70] <br> \n",
    "Unique values that are in only one (not both) of the input arrays: <br> \n",
    "[ 0 20 30 50 60 70 80] \n"
   ]
  },
  {
   "cell_type": "code",
   "execution_count": 43,
   "metadata": {},
   "outputs": [
    {
     "name": "stdout",
     "output_type": "stream",
     "text": [
      "Array1: [ 0 10 20 40 60 80]\n",
      "Array2: [10 30 40 50 70]\n",
      "Unique values that are in only one (not both) of the input arrays: [ 0 20 30 50 60 70 80]\n"
     ]
    }
   ],
   "source": [
    "\n",
    "def find_set_exclusive_or(array1, array2):\n",
    "  \"\"\"\n",
    "\tDescription:\n",
    "  \tFind the set exclusive-or (symmetric difference) of two NumPy arrays.\n",
    "  \n",
    "  Parameters:\n",
    "  \tarray1 (array): The first array.\n",
    "  \tarray2 (array): The second array.\n",
    "  \n",
    "  Returns:\n",
    "  \tarray: An array of unique values that are in only one of the input arrays.\n",
    "  \"\"\"\n",
    "  return np.setxor1d(array1, array2)\n",
    "\n",
    "def main():\n",
    "  array1 = np.array([0, 10, 20, 40, 60, 80])\n",
    "  array2 = np.array([10, 30, 40, 50, 70])\n",
    "  \n",
    "  exclusive_or = find_set_exclusive_or(array1, array2)\n",
    "  \n",
    "  print(f\"Array1: {array1}\")\n",
    "  print(f\"Array2: {array2}\")\n",
    "  print(f\"Unique values that are in only one (not both) of the input arrays: {exclusive_or}\")\n",
    "\n",
    "if __name__ == \"__main__\":\n",
    "  main()\n"
   ]
  },
  {
   "cell_type": "markdown",
   "metadata": {},
   "source": [
    "## 15. Write a Python program compare two arrays using numpy.  \n",
    "Array a: [1 2] <br>\n",
    "Array b: [4 5] <br>\n",
    "a > b  <br>\n",
    "[False False] <br>\n",
    "a >= b  <br>\n",
    "[False False]  <br>\n",
    "a < b  <br>\n",
    "[ True True]  <br>\n",
    "a <= b  <br>\n",
    "[ True True]<br>"
   ]
  },
  {
   "cell_type": "code",
   "execution_count": 44,
   "metadata": {},
   "outputs": [
    {
     "name": "stdout",
     "output_type": "stream",
     "text": [
      "a > b \n",
      "[False  True]\n",
      "a >= b \n",
      "[False  True]\n",
      "a < b \n",
      "[ True False]\n",
      "a <= b \n",
      "[ True False]\n"
     ]
    }
   ],
   "source": [
    "\n",
    "def compare_arrays(a, b):\n",
    "  \"\"\"\n",
    "\tDescription:\n",
    "  \tCompare two NumPy arrays.\n",
    "  \n",
    "  Parameters:\n",
    "  \ta (array): The first array.\n",
    "  \tb (array): The second array.\n",
    "  \n",
    "  Returns:\n",
    "  \tdict: A dictionary containing the results of comparisons.\n",
    "  \"\"\"\n",
    "  return {\n",
    "    'a > b': a > b,\n",
    "    'a >= b': a >= b,\n",
    "    'a < b': a < b,\n",
    "    'a <= b': a <= b\n",
    "  }\n",
    "\n",
    "def main():\n",
    "\n",
    "  array1 = np.array([1, 6])\n",
    "  array2= np.array([4, 5])\n",
    "  \n",
    "  results = compare_arrays(array1,array2)\n",
    "  \n",
    "  for comparison, result in results.items():\n",
    "    print(f\"{comparison} \\n{result}\")\n",
    "\n",
    "if __name__ == \"__main__\":\n",
    "  main()\n"
   ]
  },
  {
   "cell_type": "markdown",
   "metadata": {},
   "source": [
    "## 16. Write a Python program to save a NumPy array to a text file.  "
   ]
  },
  {
   "cell_type": "code",
   "execution_count": 45,
   "metadata": {},
   "outputs": [],
   "source": [
    "def main():\n",
    "\tarray = np.array([1,2,3,4])\n",
    "\tnp.savetxt(\"file.txt\",array)\n",
    "if __name__ == \"__main__\":\n",
    "  main()\n"
   ]
  },
  {
   "cell_type": "markdown",
   "metadata": {},
   "source": [
    "## 17. Write a Python program to create a contiguous flattened array.  \n",
    "Original array: <br>\n",
    "[[10 20 30]  <br>\n",
    "[20 40 50]]  <br>\n",
    "New flattened array: <br> \n",
    "[10 20 30 20 40 50] "
   ]
  },
  {
   "cell_type": "code",
   "execution_count": 46,
   "metadata": {},
   "outputs": [
    {
     "name": "stdout",
     "output_type": "stream",
     "text": [
      "Original arary: \n",
      " [[1 2 3 4]\n",
      " [1 2 3 4]]\n",
      "Flattened array : [1 2 3 4 1 2 3 4]\n"
     ]
    }
   ],
   "source": [
    "def main():\n",
    "\tarray = np.array([[1,2,3,4],[1,2,3,4]])\n",
    "\tprint(\"Original arary: \\n\",array)\n",
    "\tnew_array = array.ravel()\n",
    "\tprint(\"Flattened array :\",new_array)\n",
    "if __name__ == \"__main__\":\n",
    "  main()\n",
    "\t\n",
    "\t"
   ]
  },
  {
   "cell_type": "markdown",
   "metadata": {},
   "source": [
    "## 18.Write a Python program to change the data type of an array.  \n",
    "Expected Output: <br>\n",
    "[[ 2 4 6] <br>\n",
    "[ 6 8 10]]  <br><br>\n",
    "Data type of the array x is: int32 <br> \n",
    "New Type: float64  <br>\n",
    "[[ 2. 4. 6.]  <br>\n",
    "[ 6. 8. 10.]]"
   ]
  },
  {
   "cell_type": "code",
   "execution_count": 47,
   "metadata": {},
   "outputs": [
    {
     "name": "stdout",
     "output_type": "stream",
     "text": [
      "Original arary: \n",
      " [[1 2 3 4]\n",
      " [1 2 3 4]] int64\n",
      "Flattened array :\n",
      " [[1. 2. 3. 4.]\n",
      " [1. 2. 3. 4.]] float64\n"
     ]
    }
   ],
   "source": [
    "def main():\n",
    "\tarray = np.array([[1,2,3,4],[1,2,3,4]])\n",
    "\tprint(\"Original arary: \\n\", array, array.dtype )\n",
    "\tnew_array = array.astype('float64')\n",
    "\tprint(\"Flattened array :\\n\", new_array, new_array.dtype)\n",
    "if __name__ == \"__main__\":\n",
    "  main()\n",
    "  \n",
    "\t"
   ]
  },
  {
   "cell_type": "markdown",
   "metadata": {},
   "source": [
    "## 19.Write a Python program to create a 3-D array with ones on a diagonal and zeros elsewhere.  \n",
    "Expected Output: <br>\n",
    "[[ 1. 0. 0.] <br>\n",
    "[ 0. 1. 0.]  <br>\n",
    "[ 0. 0. 1.]] <br>"
   ]
  },
  {
   "cell_type": "code",
   "execution_count": 48,
   "metadata": {},
   "outputs": [
    {
     "name": "stdout",
     "output_type": "stream",
     "text": [
      "[[1. 0. 0.]\n",
      " [0. 1. 0.]\n",
      " [0. 0. 1.]]\n"
     ]
    }
   ],
   "source": [
    "def main():\n",
    "\tprint(np.identity(3))\n",
    "     \n",
    "\t#print(np.diagflat(np.array([1,1,1])))\n",
    "if __name__ == \"__main__\":\n",
    "  main()\n",
    "  "
   ]
  },
  {
   "cell_type": "markdown",
   "metadata": {},
   "source": [
    "## 20.Write a Python program to create an array which looks like below array.  \n",
    "Expected Output: <br>\n",
    "[[ 0. 0. 0.] <br>\n",
    "[ 1. 0. 0.] <br>\n",
    "[ 1. 1. 0.] <br>\n",
    "[ 1. 1. 1.]] "
   ]
  },
  {
   "cell_type": "code",
   "execution_count": 49,
   "metadata": {},
   "outputs": [
    {
     "name": "stdout",
     "output_type": "stream",
     "text": [
      "Original arary: \n",
      " [[1. 1. 1.]\n",
      " [1. 1. 1.]\n",
      " [1. 1. 1.]\n",
      " [1. 1. 1.]]\n",
      "Flattened array :\n",
      " [[0. 0. 0.]\n",
      " [1. 0. 0.]\n",
      " [1. 1. 0.]\n",
      " [1. 1. 1.]]\n"
     ]
    }
   ],
   "source": [
    "def main():\n",
    "\tarray = np.ones((4,3))\n",
    "\tprint(\"Original arary: \\n\", array)\n",
    "\tnew_array = np.triu(array)\n",
    "\tnew_array = np.fliplr(new_array)\n",
    "\tnew_array = np.flipud(new_array)\n",
    "\tprint(\"Flattened array :\\n\", new_array)\n",
    "if __name__ == \"__main__\":\n",
    "  main()\n",
    "  "
   ]
  },
  {
   "cell_type": "markdown",
   "metadata": {},
   "source": [
    "## 21.Write a Python program to concatenate two 2-dimensional arrays.  \n",
    "Expected Output: <br>\n",
    "Sample arrays: ([[0, 1, 3], [5, 7, 9]], [[0, 2, 4], [6, 8, 10]] )<br>\n",
    "Expected Output: <br>\n",
    "[[ 0 1 3 0 2 4] <br>\n",
    "[ 5 7 9 6 8 10]]  "
   ]
  },
  {
   "cell_type": "code",
   "execution_count": 50,
   "metadata": {},
   "outputs": [
    {
     "name": "stdout",
     "output_type": "stream",
     "text": [
      "Flattened array :\n",
      " [[1 2 1 2]\n",
      " [3 4 3 4]]\n"
     ]
    }
   ],
   "source": [
    "def main():\n",
    "\tarray1 = np.array([[1,2],[3,4]])\n",
    "\tarray2 = np.array([[1,2],[3,4]])\n",
    "\tnew_array = np.concatenate((array1,array2),axis=1)\n",
    "\tprint(\"Flattened array :\\n\", new_array)\n",
    "     \n",
    "if __name__ == \"__main__\":\n",
    "  main()\n",
    "  "
   ]
  },
  {
   "cell_type": "markdown",
   "metadata": {},
   "source": [
    "## 22. Write a Python program to make an array immutable (read-only).  \n",
    "Expected Output: <br>\n",
    "Test the array is read-only or not:  <br>\n",
    "Try to change the value of the first element:  <br>\n",
    "Traceback (most recent call last):  <br>\n",
    "File \"19236bd0-0bd9-11e7-a232-c706d0968eb6.py\", line 6, in  <br> \n",
    "x[0] = 1  <br>\n",
    "ValueError: assignment destination is read-only "
   ]
  },
  {
   "cell_type": "code",
   "execution_count": 51,
   "metadata": {},
   "outputs": [
    {
     "ename": "ValueError",
     "evalue": "assignment destination is read-only",
     "output_type": "error",
     "traceback": [
      "\u001b[1;31m---------------------------------------------------------------------------\u001b[0m",
      "\u001b[1;31mValueError\u001b[0m                                Traceback (most recent call last)",
      "Cell \u001b[1;32mIn[51], line 7\u001b[0m\n\u001b[0;32m      4\u001b[0m \tarray[\u001b[38;5;241m0\u001b[39m]\u001b[38;5;241m=\u001b[39m[\u001b[38;5;241m0\u001b[39m,\u001b[38;5;241m0\u001b[39m]   \n\u001b[0;32m      6\u001b[0m \u001b[38;5;28;01mif\u001b[39;00m \u001b[38;5;18m__name__\u001b[39m \u001b[38;5;241m==\u001b[39m \u001b[38;5;124m\"\u001b[39m\u001b[38;5;124m__main__\u001b[39m\u001b[38;5;124m\"\u001b[39m:\n\u001b[1;32m----> 7\u001b[0m   \u001b[43mmain\u001b[49m\u001b[43m(\u001b[49m\u001b[43m)\u001b[49m\n",
      "Cell \u001b[1;32mIn[51], line 4\u001b[0m, in \u001b[0;36mmain\u001b[1;34m()\u001b[0m\n\u001b[0;32m      2\u001b[0m array \u001b[38;5;241m=\u001b[39m np\u001b[38;5;241m.\u001b[39marray([[\u001b[38;5;241m1\u001b[39m,\u001b[38;5;241m2\u001b[39m],[\u001b[38;5;241m3\u001b[39m,\u001b[38;5;241m4\u001b[39m]])\n\u001b[0;32m      3\u001b[0m array\u001b[38;5;241m.\u001b[39mflags\u001b[38;5;241m.\u001b[39mwriteable\u001b[38;5;241m=\u001b[39m\u001b[38;5;28;01mFalse\u001b[39;00m\n\u001b[1;32m----> 4\u001b[0m \u001b[43marray\u001b[49m\u001b[43m[\u001b[49m\u001b[38;5;241;43m0\u001b[39;49m\u001b[43m]\u001b[49m\u001b[38;5;241m=\u001b[39m[\u001b[38;5;241m0\u001b[39m,\u001b[38;5;241m0\u001b[39m]\n",
      "\u001b[1;31mValueError\u001b[0m: assignment destination is read-only"
     ]
    }
   ],
   "source": [
    "def main():\n",
    "\tarray = np.array([[1,2],[3,4]])\n",
    "\tarray.flags.writeable=False\n",
    "\tarray[0]=[0,0]   \n",
    "     \n",
    "if __name__ == \"__main__\":\n",
    "  main()\n",
    "  "
   ]
  },
  {
   "cell_type": "markdown",
   "metadata": {},
   "source": [
    "## 23. Write a Python program to create an array of (3, 4) shape, multiply every elementvalue by 3 and display the new array. \n",
    "Expected Output: <br>\n",
    "Original array elements: <br>\n",
    "[[ 0 1 2 3] <br>\n",
    "[ 4 5 6 7] <br>\n",
    "[ 8 9 10 11]] <br> <br>\n",
    "New array elements: <br>\n",
    "[[ 0 3 6 9] <br>\n",
    "[12 15 18 21] <br>\n",
    "[24 27 30 33]]\n"
   ]
  },
  {
   "cell_type": "code",
   "execution_count": null,
   "metadata": {},
   "outputs": [
    {
     "name": "stdout",
     "output_type": "stream",
     "text": [
      "Original array :\n",
      " [[ 0  1  2  3]\n",
      " [ 4  5  6  7]\n",
      " [ 8  9 10 11]]\n",
      "After multiplecation by 3 :\n",
      " [[ 0  3  6  9]\n",
      " [12 15 18 21]\n",
      " [24 27 30 33]]\n"
     ]
    }
   ],
   "source": [
    "def main():\n",
    "\tarray = np.arange(12).reshape(3,4)\n",
    "\n",
    "\t\n",
    "\tprint(\"Original array :\\n\",array)\n",
    "\tprint(\"After multiplecation by 3 :\\n\",array*3)\n",
    "\t\n",
    "     \n",
    "if __name__ == \"__main__\":\n",
    "  main()\n",
    "  "
   ]
  },
  {
   "cell_type": "markdown",
   "metadata": {},
   "source": [
    "## 24. Write a Python program to convert a NumPy array into Python list structure.\n",
    "Expected Output: <br>\n",
    "Original array elements: <br>\n",
    "[[0 1] <br>\n",
    "[2 3] <br>\n",
    "[4 5]] <br> <br>\n",
    "Array to list: <br>\n",
    "[[0, 1], [2, 3], [4, 5]] <br>"
   ]
  },
  {
   "cell_type": "code",
   "execution_count": null,
   "metadata": {},
   "outputs": [
    {
     "name": "stdout",
     "output_type": "stream",
     "text": [
      "Original array :\n",
      " [[0 1]\n",
      " [2 3]\n",
      " [4 5]]\n",
      "After multiplecation by 3 :\n",
      " [[0, 1], [2, 3], [4, 5]]\n"
     ]
    }
   ],
   "source": [
    "def main():\n",
    "\tarray = np.arange(6).reshape(3,2)\n",
    "\tnew_array = array.tolist()\n",
    "\t\n",
    "\tprint(\"Original array :\\n\",array)\n",
    "\tprint(\"After multiplecation by 3 :\\n\",new_array)\n",
    "\t\n",
    "     \n",
    "if __name__ == \"__main__\":\n",
    "  main()\n",
    "  "
   ]
  },
  {
   "cell_type": "markdown",
   "metadata": {},
   "source": [
    "## 25. Write a Python program to convert a NumPy array into Python list structure.\n",
    "Expected Output: <br>\n",
    "Original array elements: <br>\n",
    "[ 0.26153123 0.52760141 0.5718299 0.5927067 0.7831874 0.69746349 <br>\n",
    "0.35399976 0.99469633 0.0694458 0.54711478] <br> <br>\n",
    "Print array values with precision 3: <br>\n",
    "[ 0.262 0.528 0.572 0.593 0.783 0.697 0.354 0.995 0.069 0.547]"
   ]
  },
  {
   "cell_type": "code",
   "execution_count": 59,
   "metadata": {},
   "outputs": [
    {
     "name": "stdout",
     "output_type": "stream",
     "text": [
      "Original array :\n",
      " [0.26153123 0.52760141 0.5718299  0.5927067  0.7831874  0.69746349\n",
      " 0.35399976 0.99469633 0.0694458  0.54711478]\n",
      "After multiplecation by 3 :\n",
      " [0.262 0.528 0.572 0.593 0.783 0.697 0.354 0.995 0.069 0.547]\n"
     ]
    }
   ],
   "source": [
    "def main():\n",
    "\tarray = np.array([ 0.26153123, 0.52760141, 0.5718299, 0.5927067, 0.7831874, 0.69746349, 0.35399976, 0.99469633,0.0694458, 0.54711478])\n",
    "\tprint(\"Original array :\\n\",array)\n",
    "\tnp.set_printoptions(precision=3)\n",
    "\tprint(\"After multiplecation by 3 :\\n\",array)\n",
    "\t   \n",
    "if __name__ == \"__main__\":\n",
    "  main()\n",
    "  "
   ]
  },
  {
   "cell_type": "markdown",
   "metadata": {},
   "source": [
    "## 26. Write a Python program to suppresses the use of scientific notation for small numbers in numpy array. \n",
    "Expected Output: <br>\n",
    "Original array elements: <br>\n",
    "[ 1.60000000e-10 1.60000000e+00 1.20000000e+03 2.35000000e-01] <br> <br>\n",
    "Print array values with precision 3: <br>\n",
    "[ 0. 1.6 1200. 0.235]"
   ]
  },
  {
   "cell_type": "code",
   "execution_count": 63,
   "metadata": {},
   "outputs": [
    {
     "name": "stdout",
     "output_type": "stream",
     "text": [
      "Original array :\n",
      " [1.60e-10 1.60e+00 1.20e+03 2.35e-01]\n",
      "After multiplecation by 3 :\n",
      " [   0.       1.6   1200.       0.235]\n"
     ]
    }
   ],
   "source": [
    "def main():\n",
    "\tarray = np.array([ 1.60000000e-10 ,1.60000000e+00, 1.20000000e+03, 2.35000000e-01])\n",
    "\tprint(\"Original array :\\n\",array)\n",
    "\tnp.set_printoptions(precision=3,suppress=True)\n",
    "\tprint(\"After multiplecation by 3 :\\n\",array)\n",
    "\t   \n",
    "if __name__ == \"__main__\":\n",
    "  main()\n",
    "  "
   ]
  },
  {
   "cell_type": "markdown",
   "metadata": {},
   "source": [
    "## 27. Write a Python program to how to add an extra column to an numpy array.\n",
    "Expected Output: <br>\n",
    "[[ 10 20 30 100] <br>\n",
    "[ 40 50 60 200]]"
   ]
  },
  {
   "cell_type": "code",
   "execution_count": 79,
   "metadata": {},
   "outputs": [
    {
     "name": "stdout",
     "output_type": "stream",
     "text": [
      "Original array :\n",
      " [[10 20 30]\n",
      " [40 50 60]]\n",
      "Added column  :\n",
      " [[ 10  20  30 100]\n",
      " [ 40  50  60 200]]\n"
     ]
    }
   ],
   "source": [
    "def main():\n",
    "\tarray = np.array([[10,20,30],[40,50,60]])\n",
    "\tprint(\"Original array :\\n\", array)\n",
    "  \n",
    "\tnew_array = np.hstack((array,[[100],[200]] ))\n",
    "\tprint(\"Added column  :\\n\", new_array)\n",
    "     \n",
    "if __name__ == \"__main__\":\n",
    "  main()\n",
    "  "
   ]
  },
  {
   "cell_type": "markdown",
   "metadata": {},
   "source": [
    "## 28. Write a Python program to remove specific elements in a numpy array.\n",
    "Expected Output:<br>\n",
    "Original array:<br>\n",
    "[ 10 20 30 40 50 60 70 80 90 100]<br><br>\n",
    "Delete first, fourth and fifth elements:<br>\n",
    "[ 20 30 60 70 80 90 100]\n"
   ]
  },
  {
   "cell_type": "code",
   "execution_count": 84,
   "metadata": {},
   "outputs": [
    {
     "name": "stdout",
     "output_type": "stream",
     "text": [
      "Original array :\n",
      " [ 10  20  30  40  50  60  70  80  90 100]\n",
      "Added column  :\n",
      " [ 20  30  60  70  80  90 100]\n"
     ]
    }
   ],
   "source": [
    "def main():\n",
    "\tarray = np.arange(10,110,10)\n",
    "\tprint(\"Original array :\\n\", array)\n",
    "  \n",
    "\tnew_array = np.delete(array,[0,3,4])\n",
    "\tprint(\"Added column  :\\n\", new_array)\n",
    "     \n",
    "if __name__ == \"__main__\":\n",
    "  main()\n",
    "  "
   ]
  }
 ],
 "metadata": {
  "kernelspec": {
   "display_name": "Python 3",
   "language": "python",
   "name": "python3"
  },
  "language_info": {
   "codemirror_mode": {
    "name": "ipython",
    "version": 3
   },
   "file_extension": ".py",
   "mimetype": "text/x-python",
   "name": "python",
   "nbconvert_exporter": "python",
   "pygments_lexer": "ipython3",
   "version": "3.12.4"
  }
 },
 "nbformat": 4,
 "nbformat_minor": 2
}
