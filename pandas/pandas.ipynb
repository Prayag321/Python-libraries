{
 "cells": [
  {
   "cell_type": "markdown",
   "metadata": {},
   "source": [
    "\"\"\"<br>\n",
    "    @Author: Prayag Bhoir<br>\n",
    "    @Date: 5-08-2024 <br>\n",
    "    @Last Modified by: Prayag Bhoir<br>\n",
    "    @Last Modified time: 5-08-2024 <br>\n",
    "    @Title : Python programs on numpy<br>\n",
    "\"\"\""
   ]
  },
  {
   "cell_type": "code",
   "execution_count": 1,
   "metadata": {},
   "outputs": [],
   "source": [
    "import numpy as np\n",
    "import pandas as pd\n"
   ]
  },
  {
   "cell_type": "markdown",
   "metadata": {},
   "source": [
    "## 1. Write a Python program to create and display a one-dimensional array-like object containing an array of data using Pandas module."
   ]
  },
  {
   "cell_type": "code",
   "execution_count": 7,
   "metadata": {},
   "outputs": [
    {
     "name": "stdout",
     "output_type": "stream",
     "text": [
      "Original array :  [ 10  20  30  40  50  60  70  80  90 100]\n",
      "\n",
      "Series : \n",
      " 0     10\n",
      "1     20\n",
      "2     30\n",
      "3     40\n",
      "4     50\n",
      "5     60\n",
      "6     70\n",
      "7     80\n",
      "8     90\n",
      "9    100\n",
      "dtype: int8\n"
     ]
    }
   ],
   "source": [
    "def main():\n",
    "\tarray = np.arange(10,110,10)\n",
    "\tprint(\"Original array : \",array)\n",
    "     \n",
    "\tseries = pd.Series(array,dtype='int8')\n",
    "\tprint(\"\\nSeries : \\n\",series)\n",
    "     \n",
    "if __name__ == \"__main__\":\n",
    "  main()\n",
    "  "
   ]
  },
  {
   "cell_type": "markdown",
   "metadata": {},
   "source": [
    "## 2. Write a Python program to convert a Panda module Series to Python list and it's type."
   ]
  },
  {
   "cell_type": "code",
   "execution_count": 9,
   "metadata": {},
   "outputs": [
    {
     "name": "stdout",
     "output_type": "stream",
     "text": [
      "Original array :  [ 10  20  30  40  50  60  70  80  90 100]\n",
      "\n",
      "Psnda Series : \n",
      " 0     10\n",
      "1     20\n",
      "2     30\n",
      "3     40\n",
      "4     50\n",
      "5     60\n",
      "6     70\n",
      "7     80\n",
      "8     90\n",
      "9    100\n",
      "dtype: int8\n",
      "\n",
      "Converted list : \n",
      " [10, 20, 30, 40, 50, 60, 70, 80, 90, 100] <class 'list'>\n"
     ]
    }
   ],
   "source": [
    "def main():\n",
    "\tarray = np.arange(10,110,10)\n",
    "\tprint(\"Original array : \",array)\n",
    "     \n",
    "\tseries = pd.Series(array,dtype='int8')\n",
    "\tprint(\"\\nPsnda Series : \\n\",series)\n",
    "     \n",
    "\tlst = series.tolist()\n",
    "\tprint(\"\\nConverted list : \\n\",lst,type(lst))\n",
    "     \n",
    "     \n",
    "if __name__ == \"__main__\":\n",
    "  main()"
   ]
  },
  {
   "cell_type": "markdown",
   "metadata": {},
   "source": [
    "## 3. Write a Python program to add, subtract, multiple and divide two Pandas Series. \n",
    "Sample Series: <br>\n",
    "[2, 4, 6, 8, 10] <br>, [1, 3, 5, 7, 9]\n"
   ]
  },
  {
   "cell_type": "code",
   "execution_count": 14,
   "metadata": {},
   "outputs": [
    {
     "name": "stdout",
     "output_type": "stream",
     "text": [
      "\n",
      "Addition:\n",
      " 0    2\n",
      "1    4\n",
      "2    6\n",
      "3    8\n",
      "dtype: int8\n",
      "\n",
      "Subtraction:\n",
      " 0    0\n",
      "1    0\n",
      "2    0\n",
      "3    0\n",
      "dtype: int8\n",
      "\n",
      "Multiplication:\n",
      " 0     1\n",
      "1     4\n",
      "2     9\n",
      "3    16\n",
      "dtype: int8\n",
      "\n",
      "Division\n",
      " 0    1.0\n",
      "1    1.0\n",
      "2    1.0\n",
      "3    1.0\n",
      "dtype: float64\n",
      "\n",
      "Mod:\n",
      " 0    1\n",
      "1    1\n",
      "2    1\n",
      "3    1\n",
      "dtype: int8\n"
     ]
    }
   ],
   "source": [
    "def main():\n",
    "\tseries1 = pd.Series([1, 2, 3 ,4],dtype='int8')\n",
    "\tseries2 = pd.Series([1 ,2, 3 ,4],dtype='int8')\n",
    "    \n",
    "\tprint(\"\\nAddition:\\n\", series1 + series2)\n",
    "\tprint(\"\\nSubtraction:\\n\", series1 - series2)\n",
    "\tprint(\"\\nMultiplication:\\n\", series1 * series2)\n",
    "\tprint(\"\\nDivision\\n\", series1 / series2)\n",
    "\n",
    "     \n",
    "if __name__ == \"__main__\":\n",
    "  main()\n",
    "  "
   ]
  }
 ],
 "metadata": {
  "kernelspec": {
   "display_name": "Python 3",
   "language": "python",
   "name": "python3"
  },
  "language_info": {
   "codemirror_mode": {
    "name": "ipython",
    "version": 3
   },
   "file_extension": ".py",
   "mimetype": "text/x-python",
   "name": "python",
   "nbconvert_exporter": "python",
   "pygments_lexer": "ipython3",
   "version": "3.12.4"
  }
 },
 "nbformat": 4,
 "nbformat_minor": 2
}
