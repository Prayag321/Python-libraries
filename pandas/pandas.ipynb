{
 "cells": [
  {
   "cell_type": "markdown",
   "metadata": {},
   "source": [
    "\"\"\"<br>\n",
    "    @Author: Prayag Bhoir<br>\n",
    "    @Date: 05-08-2024 <br>\n",
    "    @Last Modified by: Prayag Bhoir<br>\n",
    "    @Last Modified time: 15-08-2024 <br>\n",
    "    @Title : Python programs on pandas<br>\n",
    "\"\"\""
   ]
  },
  {
   "cell_type": "code",
   "execution_count": 2,
   "metadata": {},
   "outputs": [],
   "source": [
    "import numpy as np\n",
    "import pandas as pd\n"
   ]
  },
  {
   "cell_type": "markdown",
   "metadata": {},
   "source": [
    "## 1. Write a Python program to create and display a one-dimensional array-like object containing an array of data using Pandas module."
   ]
  },
  {
   "cell_type": "code",
   "execution_count": 3,
   "metadata": {},
   "outputs": [
    {
     "name": "stdout",
     "output_type": "stream",
     "text": [
      "Original array :  [ 10  20  30  40  50  60  70  80  90 100]\n",
      "\n",
      "Series : \n",
      " 0     10\n",
      "1     20\n",
      "2     30\n",
      "3     40\n",
      "4     50\n",
      "5     60\n",
      "6     70\n",
      "7     80\n",
      "8     90\n",
      "9    100\n",
      "dtype: int8\n"
     ]
    }
   ],
   "source": [
    "def main():\n",
    "\tarray = np.arange(10,110,10)\n",
    "\tprint(\"Original array : \",array)\n",
    "     \n",
    "\tseries = pd.Series(array,dtype='int8')\n",
    "\tprint(\"\\nSeries : \\n\",series)\n",
    "     \n",
    "\t\t \n",
    "if __name__ == \"__main__\":\n",
    "  main()\n",
    "  "
   ]
  },
  {
   "cell_type": "markdown",
   "metadata": {},
   "source": [
    "## 2. Write a Python program to convert a Panda module Series to Python list and it's type."
   ]
  },
  {
   "cell_type": "code",
   "execution_count": 4,
   "metadata": {},
   "outputs": [
    {
     "name": "stdout",
     "output_type": "stream",
     "text": [
      "Original array :  [ 10  20  30  40  50  60  70  80  90 100]\n",
      "\n",
      "Psnda Series : \n",
      " 0     10\n",
      "1     20\n",
      "2     30\n",
      "3     40\n",
      "4     50\n",
      "5     60\n",
      "6     70\n",
      "7     80\n",
      "8     90\n",
      "9    100\n",
      "dtype: int8\n",
      "\n",
      "Converted list : \n",
      " [10, 20, 30, 40, 50, 60, 70, 80, 90, 100] <class 'list'>\n"
     ]
    }
   ],
   "source": [
    "def main():\n",
    "\tarray = np.arange(10,110,10)\n",
    "\tprint(\"Original array : \",array)\n",
    "     \n",
    "\tseries = pd.Series(array,dtype='int8')\n",
    "\tprint(\"\\nPsnda Series : \\n\",series)\n",
    "     \n",
    "\tlst = series.tolist()\n",
    "\tprint(\"\\nConverted list : \\n\",lst,type(lst))\n",
    "     \n",
    "     \n",
    "if __name__ == \"__main__\":\n",
    "  main()"
   ]
  },
  {
   "cell_type": "markdown",
   "metadata": {},
   "source": [
    "## 3. Write a Python program to add, subtract, multiple and divide two Pandas Series. \n",
    "Sample Series: <br>\n",
    "[2, 4, 6, 8, 10] <br>, [1, 3, 5, 7, 9]\n"
   ]
  },
  {
   "cell_type": "code",
   "execution_count": 5,
   "metadata": {},
   "outputs": [
    {
     "name": "stdout",
     "output_type": "stream",
     "text": [
      "\n",
      "Addition:\n",
      " 0    2\n",
      "1    4\n",
      "2    6\n",
      "3    8\n",
      "dtype: int8\n",
      "\n",
      "Subtraction:\n",
      " 0    0\n",
      "1    0\n",
      "2    0\n",
      "3    0\n",
      "dtype: int8\n",
      "\n",
      "Multiplication:\n",
      " 0     1\n",
      "1     4\n",
      "2     9\n",
      "3    16\n",
      "dtype: int8\n",
      "\n",
      "Division\n",
      " 0    1.0\n",
      "1    1.0\n",
      "2    1.0\n",
      "3    1.0\n",
      "dtype: float64\n"
     ]
    }
   ],
   "source": [
    "def main():\n",
    "\tseries1 = pd.Series([1, 2, 3 ,4],dtype='int8')\n",
    "\tseries2 = pd.Series([1 ,2, 3 ,4],dtype='int8')\n",
    "    \n",
    "\tprint(\"\\nAddition:\\n\", series1 + series2)\n",
    "\tprint(\"\\nSubtraction:\\n\", series1 - series2)\n",
    "\tprint(\"\\nMultiplication:\\n\", series1 * series2)\n",
    "\tprint(\"\\nDivision\\n\", series1 / series2)\n",
    "\n",
    "     \n",
    "if __name__ == \"__main__\":\n",
    "  main()\n",
    "  "
   ]
  },
  {
   "cell_type": "markdown",
   "metadata": {},
   "source": [
    "## 4. Write a Python program to get the powers of an array values element-wise.\n",
    "Note: First array elements raised to powers from second array <br>\n",
    "Expected Output: <br>\n",
    "Original array <br>\n",
    "[0 1 2 3 4 5 6] <br> <br>\n",
    "First array elements raised to powers from second array, element-wise: <br>\n",
    "[ 0 1 8 27 64 125 216]"
   ]
  },
  {
   "cell_type": "code",
   "execution_count": 6,
   "metadata": {},
   "outputs": [
    {
     "name": "stdout",
     "output_type": "stream",
     "text": [
      "Power with second element : [1, 4, 27, 256]\n"
     ]
    }
   ],
   "source": [
    "def main():\n",
    "\tseries1 = pd.Series([1, 2, 3 ,4],dtype='int16')\n",
    "\tseries2 = pd.Series([1 ,2, 3 ,4],dtype='int16')\n",
    "     \n",
    "\tpower_lst = np.power(series1,series2).tolist()\n",
    "\tprint(\"Power with second element :\",power_lst)\n",
    "     \n",
    "\t\t \n",
    "if __name__ == \"__main__\":\n",
    "  main()\n",
    "  "
   ]
  },
  {
   "cell_type": "markdown",
   "metadata": {},
   "source": [
    "## 5. Write a Python program to create and display a DataFrame from a specified dictionary data which has the index labels.\n",
    "Sample Python dictionary data and list labels: <br>\n",
    "exam_data = {'name': ['Anastasia', 'Dima', 'Katherine', 'James', 'Emily', 'Michael', <br>\n",
    "'Matthew', 'Laura', 'Kevin', 'Jonas'], <br>\n",
    "'score': [12.5, 9, 16.5, np.nan, 9, 20, 14.5, np.nan, 8, 19], <br>\n",
    "'attempts': [1, 3, 2, 3, 2, 3, 1, 1, 2, 1], <br>\n",
    "'qualify': ['yes', 'no', 'yes', 'no', 'no', 'yes', 'yes', 'no', 'no', 'yes']} <br>\n",
    "labels = ['a', 'b', 'c', 'd', 'e', 'f', 'g', 'h', 'i', 'j']"
   ]
  },
  {
   "cell_type": "code",
   "execution_count": 7,
   "metadata": {},
   "outputs": [
    {
     "name": "stdout",
     "output_type": "stream",
     "text": [
      "        name  score  attempts qualify\n",
      "a  Anastasia   12.5         1     yes\n",
      "b       Dima    9.0         3      no\n",
      "c  Katherine   16.5         2     yes\n",
      "d      James    NaN         3      no\n",
      "e      Emily    9.0         2      no\n",
      "f    Michael   20.0         3     yes\n",
      "g    Matthew   14.5         1     yes\n",
      "h      Laura    NaN         1      no\n",
      "i      Kevin    8.0         2      no\n",
      "j      Jonas   19.0         1     yes\n"
     ]
    }
   ],
   "source": [
    "def main():\n",
    "\texam_data = {\n",
    "\t\t\t'name': ['Anastasia', 'Dima', 'Katherine', 'James', 'Emily', 'Michael',\n",
    "\t\t\t\t\t\t\t'Matthew', 'Laura', 'Kevin', 'Jonas'],\n",
    "\t\t\t'score': [12.5, 9, 16.5, np.nan, 9, 20, 14.5, np.nan, 8, 19],\n",
    "\t\t\t'attempts': [1, 3, 2, 3, 2, 3, 1, 1, 2, 1],\n",
    "\t\t\t'qualify': ['yes', 'no', 'yes', 'no', 'no', 'yes', 'yes', 'no', 'no', 'yes']\n",
    "\t}\n",
    "\tlabels = ['a', 'b', 'c', 'd', 'e', 'f', 'g', 'h', 'i', 'j']\n",
    "\n",
    "\tdf = pd.DataFrame(exam_data, index=labels)\n",
    "\tprint(df)\n",
    "     \n",
    "\t\t \n",
    "if __name__ == \"__main__\":\n",
    "  main()\n",
    "  "
   ]
  },
  {
   "cell_type": "markdown",
   "metadata": {},
   "source": [
    "## 6. Write a Python program to display a summary of the basic information about a specified Data Frame and its data.\n",
    "Sample Python dictionary data and list labels:<br>\n",
    "exam_data = {<br>'name': ['Anastasia', 'Dima', 'Katherine', 'James', 'Emily', 'Michael', 'Matthew',\n",
    "'Laura', 'Kevin', 'Jonas'],<br>\n",
    "'score': [12.5, 9, 16.5, np.nan, 9, 20, 14.5, np.nan, 8, 19],<br>\n",
    "'attempts': [1, 3, 2, 3, 2, 3, 1, 1, 2, 1],<br>\n",
    "'qualify': ['yes', 'no', 'yes', 'no', 'no', 'yes', 'yes', 'no', 'no', 'yes']<br>}<br>\n",
    "labels = ['a', 'b', 'c', 'd', 'e', 'f', 'g', 'h', 'i', 'j']\n"
   ]
  },
  {
   "cell_type": "code",
   "execution_count": 9,
   "metadata": {},
   "outputs": [
    {
     "name": "stdout",
     "output_type": "stream",
     "text": [
      "        name  score  attempts qualify\n",
      "a  Anastasia   12.5         1     yes\n",
      "b       Dima    9.0         3      no\n",
      "c  Katherine   16.5         2     yes\n",
      "d      James    NaN         3      no\n",
      "e      Emily    9.0         2      no\n",
      "f    Michael   20.0         3     yes\n",
      "g    Matthew   14.5         1     yes\n",
      "h      Laura    NaN         1      no\n",
      "i      Kevin    8.0         2      no\n",
      "j      Jonas   19.0         1     yes\n",
      "\n",
      "Basic Information about the DataFrame:\n",
      "<class 'pandas.core.frame.DataFrame'>\n",
      "Index: 10 entries, a to j\n",
      "Data columns (total 4 columns):\n",
      " #   Column    Non-Null Count  Dtype  \n",
      "---  ------    --------------  -----  \n",
      " 0   name      10 non-null     object \n",
      " 1   score     8 non-null      float64\n",
      " 2   attempts  10 non-null     int64  \n",
      " 3   qualify   10 non-null     object \n",
      "dtypes: float64(1), int64(1), object(2)\n",
      "memory usage: 400.0+ bytes\n",
      "None\n"
     ]
    }
   ],
   "source": [
    "def main():\n",
    "\texam_data = {\n",
    "\t\t\t'name': ['Anastasia', 'Dima', 'Katherine', 'James', 'Emily', 'Michael',\n",
    "\t\t\t\t\t\t\t'Matthew', 'Laura', 'Kevin', 'Jonas'],\n",
    "\t\t\t'score': [12.5, 9, 16.5, np.nan, 9, 20, 14.5, np.nan, 8, 19],\n",
    "\t\t\t'attempts': [1, 3, 2, 3, 2, 3, 1, 1, 2, 1],\n",
    "\t\t\t'qualify': ['yes', 'no', 'yes', 'no', 'no', 'yes', 'yes', 'no', 'no', 'yes']\n",
    "\t}\n",
    "\tlabels = ['a', 'b', 'c', 'd', 'e', 'f', 'g', 'h', 'i', 'j']\n",
    "\n",
    "\tdf = pd.DataFrame(exam_data, index=labels)\n",
    "\tprint(df)\n",
    "     \n",
    "\tprint(\"\\nBasic Information about the DataFrame:\")\n",
    "\tprint(df.info())\n",
    "     \n",
    "\t\t \n",
    "if __name__ == \"__main__\":\n",
    "  main()"
   ]
  },
  {
   "cell_type": "markdown",
   "metadata": {},
   "source": [
    "## 7. Write a Python program to get the first 3 rows of a given DataFrame.\n",
    "\n",
    "Sample Python dictionary data and list labels:<br>\n",
    "exam_data = {<br>'name': ['Anastasia', 'Dima', 'Katherine', 'James', 'Emily', 'Michael', 'Matthew',\n",
    "'Laura', 'Kevin', 'Jonas'],<br>\n",
    "'score': [12.5, 9, 16.5, np.nan, 9, 20, 14.5, np.nan, 8, 19],<br>\n",
    "'attempts': [1, 3, 2, 3, 2, 3, 1, 1, 2, 1],<br>\n",
    "'qualify': ['yes', 'no', 'yes', 'no', 'no', 'yes', 'yes', 'no', 'no', 'yes']<br>}<br>\n",
    "labels = ['a', 'b', 'c', 'd', 'e', 'f', 'g', 'h', 'i', 'j']"
   ]
  },
  {
   "cell_type": "code",
   "execution_count": 14,
   "metadata": {},
   "outputs": [
    {
     "name": "stdout",
     "output_type": "stream",
     "text": [
      "Original dataframe: \n",
      "         name  score  attempts qualify\n",
      "a  Anastasia   12.5         1     yes\n",
      "b       Dima    9.0         3      no\n",
      "c  Katherine   16.5         2     yes\n",
      "d      James    NaN         3      no\n",
      "e      Emily    9.0         2      no\n",
      "f    Michael   20.0         3     yes\n",
      "g    Matthew   14.5         1     yes\n",
      "h      Laura    NaN         1      no\n",
      "i      Kevin    8.0         2      no\n",
      "j      Jonas   19.0         1     yes\n",
      "\n",
      "First three elements: \n",
      "         name  score  attempts qualify\n",
      "a  Anastasia   12.5         1     yes\n",
      "b       Dima    9.0         3      no\n",
      "c  Katherine   16.5         2     yes\n"
     ]
    }
   ],
   "source": [
    "def main():\n",
    "\texam_data = {\n",
    "\t\t\t'name': ['Anastasia', 'Dima', 'Katherine', 'James', 'Emily', 'Michael',\n",
    "\t\t\t\t\t\t\t'Matthew', 'Laura', 'Kevin', 'Jonas'],\n",
    "\t\t\t'score': [12.5, 9, 16.5, np.nan, 9, 20, 14.5, np.nan, 8, 19],\n",
    "\t\t\t'attempts': [1, 3, 2, 3, 2, 3, 1, 1, 2, 1],\n",
    "\t\t\t'qualify': ['yes', 'no', 'yes', 'no', 'no', 'yes', 'yes', 'no', 'no', 'yes']\n",
    "\t}\n",
    "\tlabels = ['a', 'b', 'c', 'd', 'e', 'f', 'g', 'h', 'i', 'j']\n",
    "\n",
    "\tdf = pd.DataFrame(exam_data, index=labels)\n",
    "\tprint(\"Original dataframe: \\n\",df)\n",
    "\tprint(\"\\nFirst three elements: \\n\",df.head(3))\n",
    "     \n",
    "\n",
    "if __name__ == \"__main__\":\n",
    "  main()"
   ]
  },
  {
   "cell_type": "markdown",
   "metadata": {},
   "source": [
    "## 8. Write a Python program to select the 'name' and 'score' columns from the following DataFrame.\n",
    "\n",
    "Sample Python dictionary data and list labels:<br>\n",
    "exam_data = {<br>'name': ['Anastasia', 'Dima', 'Katherine', 'James', 'Emily', 'Michael', 'Matthew',\n",
    "'Laura', 'Kevin', 'Jonas'],<br>\n",
    "'score': [12.5, 9, 16.5, np.nan, 9, 20, 14.5, np.nan, 8, 19],<br>\n",
    "'attempts': [1, 3, 2, 3, 2, 3, 1, 1, 2, 1],<br>\n",
    "'qualify': ['yes', 'no', 'yes', 'no', 'no', 'yes', 'yes', 'no', 'no', 'yes']<br>}<br>\n",
    "labels = ['a', 'b', 'c', 'd', 'e', 'f', 'g', 'h', 'i', 'j']"
   ]
  },
  {
   "cell_type": "code",
   "execution_count": 26,
   "metadata": {},
   "outputs": [
    {
     "name": "stdout",
     "output_type": "stream",
     "text": [
      "        name  score  attempts qualify\n",
      "a  Anastasia   12.5         1     yes\n",
      "b       Dima    9.0         3      no\n",
      "c  Katherine   16.5         2     yes\n",
      "d      James    NaN         3      no\n",
      "e      Emily    9.0         2      no\n",
      "f    Michael   20.0         3     yes\n",
      "g    Matthew   14.5         1     yes\n",
      "h      Laura    NaN         1      no\n",
      "i      Kevin    8.0         2      no\n",
      "j      Jonas   19.0         1     yes\n",
      "\n",
      "Specific column in the DataFrame:\n",
      "        name  score\n",
      "a  Anastasia   12.5\n",
      "b       Dima    9.0\n",
      "c  Katherine   16.5\n",
      "d      James    NaN\n",
      "e      Emily    9.0\n",
      "f    Michael   20.0\n",
      "g    Matthew   14.5\n",
      "h      Laura    NaN\n",
      "i      Kevin    8.0\n",
      "j      Jonas   19.0\n"
     ]
    }
   ],
   "source": [
    "def main():\n",
    "\texam_data = {\n",
    "\t\t\t'name': ['Anastasia', 'Dima', 'Katherine', 'James', 'Emily', 'Michael',\n",
    "\t\t\t\t\t\t\t'Matthew', 'Laura', 'Kevin', 'Jonas'],\n",
    "\t\t\t'score': [12.5, 9, 16.5, np.nan, 9, 20, 14.5, np.nan, 8, 19],\n",
    "\t\t\t'attempts': [1, 3, 2, 3, 2, 3, 1, 1, 2, 1],\n",
    "\t\t\t'qualify': ['yes', 'no', 'yes', 'no', 'no', 'yes', 'yes', 'no', 'no', 'yes']\n",
    "\t}\n",
    "\tlabels = ['a', 'b', 'c', 'd', 'e', 'f', 'g', 'h', 'i', 'j']\n",
    "\n",
    "\tdf = pd.DataFrame(exam_data, index=labels)\n",
    "\tprint(df)\n",
    "     \n",
    "\tprint(\"\\nSpecific column in the DataFrame:\")\n",
    "\tprint(df.loc[:,['name','score']])\n",
    "     \n",
    "\t\t \n",
    "if __name__ == \"__main__\":\n",
    "  main()"
   ]
  },
  {
   "cell_type": "markdown",
   "metadata": {},
   "source": [
    "## 9. Write a Python program to select the specified columns and rows from a given data frame.\n",
    "Sample Python dictionary data and list labels:<br>\n",
    "exam_data = {<br>'name': ['Anastasia', 'Dima', 'Katherine', 'James', 'Emily', 'Michael', 'Matthew',\n",
    "'Laura', 'Kevin', 'Jonas'],<br>\n",
    "'score': [12.5, 9, 16.5, np.nan, 9, 20, 14.5, np.nan, 8, 19],<br>\n",
    "'attempts': [1, 3, 2, 3, 2, 3, 1, 1, 2, 1],<br>\n",
    "'qualify': ['yes', 'no', 'yes', 'no', 'no', 'yes', 'yes', 'no', 'no', 'yes']<br>}<br>\n",
    "labels = ['a', 'b', 'c', 'd', 'e', 'f', 'g', 'h', 'i', 'j']"
   ]
  },
  {
   "cell_type": "code",
   "execution_count": 27,
   "metadata": {},
   "outputs": [
    {
     "name": "stdout",
     "output_type": "stream",
     "text": [
      "        name  score  attempts qualify\n",
      "a  Anastasia   12.5         1     yes\n",
      "b       Dima    9.0         3      no\n",
      "c  Katherine   16.5         2     yes\n",
      "d      James    NaN         3      no\n",
      "e      Emily    9.0         2      no\n",
      "f    Michael   20.0         3     yes\n",
      "g    Matthew   14.5         1     yes\n",
      "h      Laura    NaN         1      no\n",
      "i      Kevin    8.0         2      no\n",
      "j      Jonas   19.0         1     yes\n",
      "\n",
      "Specific column and row in the DataFrame:\n",
      "        name  score\n",
      "b       Dima    9.0\n",
      "c  Katherine   16.5\n",
      "d      James    NaN\n",
      "e      Emily    9.0\n",
      "f    Michael   20.0\n",
      "g    Matthew   14.5\n"
     ]
    }
   ],
   "source": [
    "def main():\n",
    "\texam_data = {\n",
    "\t\t\t'name': ['Anastasia', 'Dima', 'Katherine', 'James', 'Emily', 'Michael',\n",
    "\t\t\t\t\t\t\t'Matthew', 'Laura', 'Kevin', 'Jonas'],\n",
    "\t\t\t'score': [12.5, 9, 16.5, np.nan, 9, 20, 14.5, np.nan, 8, 19],\n",
    "\t\t\t'attempts': [1, 3, 2, 3, 2, 3, 1, 1, 2, 1],\n",
    "\t\t\t'qualify': ['yes', 'no', 'yes', 'no', 'no', 'yes', 'yes', 'no', 'no', 'yes']\n",
    "\t}\n",
    "\tlabels = ['a', 'b', 'c', 'd', 'e', 'f', 'g', 'h', 'i', 'j']\n",
    "\n",
    "\tdf = pd.DataFrame(exam_data, index=labels)\n",
    "\tprint(df)    \n",
    "\tprint(\"\\nSpecific column and row in the DataFrame:\")\n",
    "\tprint(df.loc['b':'g':,['name','score']])\n",
    "     \n",
    "     \n",
    "if __name__ == \"__main__\":\n",
    "  main()"
   ]
  },
  {
   "cell_type": "markdown",
   "metadata": {},
   "source": [
    "## 10. Write a Python program to select the rows where the number of attempts in the examination is greater than 2\n",
    "Sample Python dictionary data and list labels:<br>\n",
    "exam_data = {<br>'name': ['Anastasia', 'Dima', 'Katherine', 'James', 'Emily', 'Michael', 'Matthew',\n",
    "'Laura', 'Kevin', 'Jonas'],<br>\n",
    "'score': [12.5, 9, 16.5, np.nan, 9, 20, 14.5, np.nan, 8, 19],<br>\n",
    "'attempts': [1, 3, 2, 3, 2, 3, 1, 1, 2, 1],<br>\n",
    "'qualify': ['yes', 'no', 'yes', 'no', 'no', 'yes', 'yes', 'no', 'no', 'yes']<br>}<br>\n",
    "labels = ['a', 'b', 'c', 'd', 'e', 'f', 'g', 'h', 'i', 'j']"
   ]
  },
  {
   "cell_type": "code",
   "execution_count": 48,
   "metadata": {},
   "outputs": [
    {
     "name": "stdout",
     "output_type": "stream",
     "text": [
      "        name  score  attempts qualify\n",
      "a  Anastasia   12.5         1     yes\n",
      "b       Dima    9.0         3      no\n",
      "c  Katherine   16.5         2     yes\n",
      "d      James    NaN         3      no\n",
      "e      Emily    9.0         2      no\n",
      "f    Michael   20.0         3     yes\n",
      "g    Matthew   14.5         1     yes\n",
      "h      Laura    NaN         1      no\n",
      "i      Kevin    8.0         2      no\n",
      "j      Jonas   19.0         1     yes\n",
      "\n",
      "Specific column and row in the DataFrame:\n",
      "      name  score  attempts qualify\n",
      "b     Dima    9.0         3      no\n",
      "d    James    NaN         3      no\n",
      "f  Michael   20.0         3     yes\n"
     ]
    }
   ],
   "source": [
    "def main():\n",
    "\texam_data = {\n",
    "\t\t\t'name': ['Anastasia', 'Dima', 'Katherine', 'James', 'Emily', 'Michael',\n",
    "\t\t\t\t\t\t\t'Matthew', 'Laura', 'Kevin', 'Jonas'],\n",
    "\t\t\t'score': [12.5, 9, 16.5, np.nan, 9, 20, 14.5, np.nan, 8, 19],\n",
    "\t\t\t'attempts': [1, 3, 2, 3, 2, 3, 1, 1, 2, 1],\n",
    "\t\t\t'qualify': ['yes', 'no', 'yes', 'no', 'no', 'yes', 'yes', 'no', 'no', 'yes']\n",
    "\t}\n",
    "\tlabels = ['a', 'b', 'c', 'd', 'e', 'f', 'g', 'h', 'i', 'j']\n",
    "\n",
    "\tdf = pd.DataFrame(exam_data, index=labels)\n",
    "\tprint(df)\n",
    "\tprint(\"\\nSpecific row in the DataFrame:\")\n",
    "\tprint(df.loc[df['attempts']>2])\n",
    "     \n",
    "\n",
    "if __name__ == \"__main__\":\n",
    "  main()"
   ]
  },
  {
   "cell_type": "markdown",
   "metadata": {},
   "source": [
    "## 11. Write a Python program to count the number of rows and columns of a DataFrame\n",
    "Sample Python dictionary data and list labels:<br>\n",
    "exam_data = {<br>'name': ['Anastasia', 'Dima', 'Katherine', 'James', 'Emily', 'Michael', 'Matthew',\n",
    "'Laura', 'Kevin', 'Jonas'],<br>\n",
    "'score': [12.5, 9, 16.5, np.nan, 9, 20, 14.5, np.nan, 8, 19],<br>\n",
    "'attempts': [1, 3, 2, 3, 2, 3, 1, 1, 2, 1],<br>\n",
    "'qualify': ['yes', 'no', 'yes', 'no', 'no', 'yes', 'yes', 'no', 'no', 'yes']<br>}<br>\n",
    "labels = ['a', 'b', 'c', 'd', 'e', 'f', 'g', 'h', 'i', 'j']"
   ]
  },
  {
   "cell_type": "code",
   "execution_count": 57,
   "metadata": {},
   "outputs": [
    {
     "name": "stdout",
     "output_type": "stream",
     "text": [
      "        name  score  attempts qualify\n",
      "a  Anastasia   12.5         1     yes\n",
      "b       Dima    9.0         3      no\n",
      "c  Katherine   16.5         2     yes\n",
      "d      James    NaN         3      no\n",
      "e      Emily    9.0         2      no\n",
      "f    Michael   20.0         3     yes\n",
      "g    Matthew   14.5         1     yes\n",
      "h      Laura    NaN         1      no\n",
      "i      Kevin    8.0         2      no\n",
      "j      Jonas   19.0         1     yes\n",
      "\n",
      "Shape of dataframe:\n",
      "(10, 4)\n"
     ]
    }
   ],
   "source": [
    "def main():\n",
    "\texam_data = {\n",
    "\t\t\t'name': ['Anastasia', 'Dima', 'Katherine', 'James', 'Emily', 'Michael',\n",
    "\t\t\t\t\t\t\t'Matthew', 'Laura', 'Kevin', 'Jonas'],\n",
    "\t\t\t'score': [12.5, 9, 16.5, np.nan, 9, 20, 14.5, np.nan, 8, 19],\n",
    "\t\t\t'attempts': [1, 3, 2, 3, 2, 3, 1, 1, 2, 1],\n",
    "\t\t\t'qualify': ['yes', 'no', 'yes', 'no', 'no', 'yes', 'yes', 'no', 'no', 'yes']\n",
    "\t}\n",
    "\tlabels = ['a', 'b', 'c', 'd', 'e', 'f', 'g', 'h', 'i', 'j']\n",
    "\n",
    "\tdf = pd.DataFrame(exam_data, index=labels)\n",
    "\tprint(\"Original dataframe :\\n\",df)\n",
    "     \n",
    "\tprint(\"\\nShape of dataframe:\")\n",
    "\tprint(df.shape)\n",
    "     \n",
    "    \n",
    "if __name__ == \"__main__\":\n",
    "  main()"
   ]
  },
  {
   "cell_type": "markdown",
   "metadata": {},
   "source": [
    "## 12. Python program to select the rows where the score is missing, i.e. is NaN.\n",
    "Sample Python dictionary data and list labels:<br>\n",
    "exam_data = {<br>'name': ['Anastasia', 'Dima', 'Katherine', 'James', 'Emily', 'Michael', 'Matthew',\n",
    "'Laura', 'Kevin', 'Jonas'],<br>\n",
    "'score': [12.5, 9, 16.5, np.nan, 9, 20, 14.5, np.nan, 8, 19],<br>\n",
    "'attempts': [1, 3, 2, 3, 2, 3, 1, 1, 2, 1],<br>\n",
    "'qualify': ['yes', 'no', 'yes', 'no', 'no', 'yes', 'yes', 'no', 'no', 'yes']<br>}<br>\n",
    "labels = ['a', 'b', 'c', 'd', 'e', 'f', 'g', 'h', 'i', 'j']"
   ]
  },
  {
   "cell_type": "code",
   "execution_count": 69,
   "metadata": {},
   "outputs": [
    {
     "name": "stdout",
     "output_type": "stream",
     "text": [
      "Original dataframe :\n",
      "         name  score  attempts qualify\n",
      "a  Anastasia   12.5         1     yes\n",
      "b       Dima    9.0         3      no\n",
      "c  Katherine   16.5         2     yes\n",
      "d      James    NaN         3      no\n",
      "e      Emily    9.0         2      no\n",
      "f    Michael   20.0         3     yes\n",
      "g    Matthew   14.5         1     yes\n",
      "h      Laura    NaN         1      no\n",
      "i      Kevin    8.0         2      no\n",
      "j      Jonas   19.0         1     yes\n",
      "\n",
      "Rows where score is nan:\n",
      "    name  score  attempts qualify\n",
      "d  James    NaN         3      no\n",
      "h  Laura    NaN         1      no\n"
     ]
    }
   ],
   "source": [
    "def main():\n",
    "\texam_data = {\n",
    "\t\t\t'name': ['Anastasia', 'Dima', 'Katherine', 'James', 'Emily', 'Michael',\n",
    "\t\t\t\t\t\t\t'Matthew', 'Laura', 'Kevin', 'Jonas'],\n",
    "\t\t\t'score': [12.5, 9, 16.5, np.nan, 9, 20, 14.5, np.nan, 8, 19],\n",
    "\t\t\t'attempts': [1, 3, 2, 3, 2, 3, 1, 1, 2, 1],\n",
    "\t\t\t'qualify': ['yes', 'no', 'yes', 'no', 'no', 'yes', 'yes', 'no', 'no', 'yes']\n",
    "\t}\n",
    "\tlabels = ['a', 'b', 'c', 'd', 'e', 'f', 'g', 'h', 'i', 'j']\n",
    "\n",
    "\tdf = pd.DataFrame(exam_data, index=labels)\n",
    "\tprint(\"Original dataframe :\\n\",df)\n",
    "     \n",
    "\tprint(\"\\nRows where score is nan:\")\n",
    "\tprint(df.loc[df['score'].isnull()])\n",
    "     \n",
    "  \n",
    "if __name__ == \"__main__\":\n",
    "  main()"
   ]
  },
  {
   "cell_type": "markdown",
   "metadata": {},
   "source": [
    "## 13. Write a Python program to select the rows where number of attempts in the examination is less than 2 and score greater than 15.\n",
    "exam_data = {<br>'name': ['Anastasia', 'Dima', 'Katherine', 'James', 'Emily', 'Michael', 'Matthew',<br>\n",
    "'Laura', 'Kevin', 'Jonas'],<br>\n",
    "'score': [12.5, 9, 16.5, np.nan, 9, 20, 14.5, np.nan, 8, 19],<br>\n",
    "'attempts': [1, 3, 2, 3, 2, 3, 1, 1, 2, 1],<br>\n",
    "'qualify': ['yes', 'no', 'yes', 'no', 'no', 'yes', 'yes', 'no', 'no', 'yes']<br>}<br>\n",
    "labels = ['a', 'b', 'c', 'd', 'e', 'f', 'g', 'h', 'i', 'j']\n"
   ]
  },
  {
   "cell_type": "code",
   "execution_count": 75,
   "metadata": {},
   "outputs": [
    {
     "name": "stdout",
     "output_type": "stream",
     "text": [
      "Original dataframe :\n",
      "         name  score  attempts qualify\n",
      "a  Anastasia   12.5         1     yes\n",
      "b       Dima    9.0         3      no\n",
      "c  Katherine   16.5         2     yes\n",
      "d      James    NaN         3      no\n",
      "e      Emily    9.0         2      no\n",
      "f    Michael   20.0         3     yes\n",
      "g    Matthew   14.5         1     yes\n",
      "h      Laura    NaN         1      no\n",
      "i      Kevin    8.0         2      no\n",
      "j      Jonas   19.0         1     yes\n",
      "\n",
      "Attempts >2 score<15 :\n",
      "        name  score  attempts qualify\n",
      "a  Anastasia   12.5         1     yes\n",
      "g    Matthew   14.5         1     yes\n"
     ]
    }
   ],
   "source": [
    "def main():\n",
    "\texam_data = {\n",
    "\t\t\t'name': ['Anastasia', 'Dima', 'Katherine', 'James', 'Emily', 'Michael',\n",
    "\t\t\t\t\t\t\t'Matthew', 'Laura', 'Kevin', 'Jonas'],\n",
    "\t\t\t'score': [12.5, 9, 16.5, np.nan, 9, 20, 14.5, np.nan, 8, 19],\n",
    "\t\t\t'attempts': [1, 3, 2, 3, 2, 3, 1, 1, 2, 1],\n",
    "\t\t\t'qualify': ['yes', 'no', 'yes', 'no', 'no', 'yes', 'yes', 'no', 'no', 'yes']\n",
    "\t}\n",
    "\tlabels = ['a', 'b', 'c', 'd', 'e', 'f', 'g', 'h', 'i', 'j']\n",
    "\n",
    "\tdf = pd.DataFrame(exam_data, index=labels)\n",
    "\tprint(\"Original dataframe :\\n\",df)\n",
    "     \n",
    "\tprint(\"\\nAttempts >2 score<15 :\")\n",
    "\tprint(df.loc[(df['score']<15) & (df['attempts']<2)] ) #loc can be used\n",
    "     \n",
    "\n",
    "if __name__ == \"__main__\":\n",
    "  main()"
   ]
  },
  {
   "cell_type": "markdown",
   "metadata": {},
   "source": [
    "## 14. Write a Python program to change the score in row 'd' to 11.5\n",
    "exam_data = {<br>'name': ['Anastasia', 'Dima', 'Katherine', 'James', 'Emily', 'Michael', 'Matthew',<br>\n",
    "'Laura', 'Kevin', 'Jonas'],<br>\n",
    "'score': [12.5, 9, 16.5, np.nan, 9, 20, 14.5, np.nan, 8, 19],<br>\n",
    "'attempts': [1, 3, 2, 3, 2, 3, 1, 1, 2, 1],<br>\n",
    "'qualify': ['yes', 'no', 'yes', 'no', 'no', 'yes', 'yes', 'no', 'no', 'yes']<br>}<br>\n",
    "labels = ['a', 'b', 'c', 'd', 'e', 'f', 'g', 'h', 'i', 'j']\n"
   ]
  },
  {
   "cell_type": "code",
   "execution_count": 78,
   "metadata": {},
   "outputs": [
    {
     "name": "stdout",
     "output_type": "stream",
     "text": [
      "Original dataframe :\n",
      "         name  score  attempts qualify\n",
      "a  Anastasia   12.5         1     yes\n",
      "b       Dima    9.0         3      no\n",
      "c  Katherine   16.5         2     yes\n",
      "d      James    NaN         3      no\n",
      "e      Emily    9.0         2      no\n",
      "f    Michael   20.0         3     yes\n",
      "g    Matthew   14.5         1     yes\n",
      "h      Laura    NaN         1      no\n",
      "i      Kevin    8.0         2      no\n",
      "j      Jonas   19.0         1     yes\n",
      "\n",
      "Change d in score to 11.5:\n",
      "        name  score  attempts qualify\n",
      "a  Anastasia   12.5         1     yes\n",
      "b       Dima    9.0         3      no\n",
      "c  Katherine   16.5         2     yes\n",
      "d      James   11.5         3      no\n",
      "e      Emily    9.0         2      no\n",
      "f    Michael   20.0         3     yes\n",
      "g    Matthew   14.5         1     yes\n",
      "h      Laura    NaN         1      no\n",
      "i      Kevin    8.0         2      no\n",
      "j      Jonas   19.0         1     yes\n"
     ]
    }
   ],
   "source": [
    "def main():\n",
    "\texam_data = {\n",
    "\t\t\t'name': ['Anastasia', 'Dima', 'Katherine', 'James', 'Emily', 'Michael',\n",
    "\t\t\t\t\t\t\t'Matthew', 'Laura', 'Kevin', 'Jonas'],\n",
    "\t\t\t'score': [12.5, 9, 16.5, np.nan, 9, 20, 14.5, np.nan, 8, 19],\n",
    "\t\t\t'attempts': [1, 3, 2, 3, 2, 3, 1, 1, 2, 1],\n",
    "\t\t\t'qualify': ['yes', 'no', 'yes', 'no', 'no', 'yes', 'yes', 'no', 'no', 'yes']\n",
    "\t}\n",
    "\tlabels = ['a', 'b', 'c', 'd', 'e', 'f', 'g', 'h', 'i', 'j']\n",
    "\n",
    "\tdf = pd.DataFrame(exam_data, index=labels)\n",
    "\tprint(\"Original dataframe :\\n\",df)\n",
    "     \n",
    "\tprint(\"\\nChange d in score to 11.5:\")\n",
    "\tdf.loc['d','score']=11.5\n",
    "\tprint(df)\n",
    "     \n",
    "\n",
    "if __name__ == \"__main__\":\n",
    "  main()"
   ]
  },
  {
   "cell_type": "markdown",
   "metadata": {},
   "source": [
    "## 15. Write a Python program to calculate the sum of the examination attempts by the students.\n",
    "exam_data = {<br>'name': ['Anastasia', 'Dima', 'Katherine', 'James', 'Emily', 'Michael', 'Matthew',<br>\n",
    "'Laura', 'Kevin', 'Jonas'],<br>\n",
    "'score': [12.5, 9, 16.5, np.nan, 9, 20, 14.5, np.nan, 8, 19],<br>\n",
    "'attempts': [1, 3, 2, 3, 2, 3, 1, 1, 2, 1],<br>\n",
    "'qualify': ['yes', 'no', 'yes', 'no', 'no', 'yes', 'yes', 'no', 'no', 'yes']<br>}<br>\n",
    "labels = ['a', 'b', 'c', 'd', 'e', 'f', 'g', 'h', 'i', 'j']\n"
   ]
  },
  {
   "cell_type": "code",
   "execution_count": 80,
   "metadata": {},
   "outputs": [
    {
     "name": "stdout",
     "output_type": "stream",
     "text": [
      "Original dataframe :\n",
      "         name  score  attempts qualify\n",
      "a  Anastasia   12.5         1     yes\n",
      "b       Dima    9.0         3      no\n",
      "c  Katherine   16.5         2     yes\n",
      "d      James    NaN         3      no\n",
      "e      Emily    9.0         2      no\n",
      "f    Michael   20.0         3     yes\n",
      "g    Matthew   14.5         1     yes\n",
      "h      Laura    NaN         1      no\n",
      "i      Kevin    8.0         2      no\n",
      "j      Jonas   19.0         1     yes\n",
      "\n",
      "Sum of attempts :\n",
      "19\n"
     ]
    }
   ],
   "source": [
    "def main():\n",
    "\texam_data = {\n",
    "\t\t\t'name': ['Anastasia', 'Dima', 'Katherine', 'James', 'Emily', 'Michael',\n",
    "\t\t\t\t\t\t\t'Matthew', 'Laura', 'Kevin', 'Jonas'],\n",
    "\t\t\t'score': [12.5, 9, 16.5, np.nan, 9, 20, 14.5, np.nan, 8, 19],\n",
    "\t\t\t'attempts': [1, 3, 2, 3, 2, 3, 1, 1, 2, 1],\n",
    "\t\t\t'qualify': ['yes', 'no', 'yes', 'no', 'no', 'yes', 'yes', 'no', 'no', 'yes']\n",
    "\t}\n",
    "\tlabels = ['a', 'b', 'c', 'd', 'e', 'f', 'g', 'h', 'i', 'j']\n",
    "\n",
    "\tdf = pd.DataFrame(exam_data, index=labels)\n",
    "\tprint(\"Original dataframe :\\n\",df)\n",
    "     \n",
    "\tprint(\"\\nSum of attempts :\")\n",
    "\tprint(df['attempts'].sum())\n",
    "     \n",
    "    \n",
    "if __name__ == \"__main__\":\n",
    "  main()"
   ]
  },
  {
   "cell_type": "markdown",
   "metadata": {},
   "source": [
    "## 16. Write a Python program to calculate the mean score for each different student in DataFrame.\n",
    "exam_data = {<br>'name': ['Anastasia', 'Dima', 'Katherine', 'James', 'Emily', 'Michael', 'Matthew',<br>\n",
    "'Laura', 'Kevin', 'Jonas'],<br>\n",
    "'score': [12.5, 9, 16.5, np.nan, 9, 20, 14.5, np.nan, 8, 19],<br>\n",
    "'attempts': [1, 3, 2, 3, 2, 3, 1, 1, 2, 1],<br>\n",
    "'qualify': ['yes', 'no', 'yes', 'no', 'no', 'yes', 'yes', 'no', 'no', 'yes']<br>}<br>\n",
    "labels = ['a', 'b', 'c', 'd', 'e', 'f', 'g', 'h', 'i', 'j']\n"
   ]
  },
  {
   "cell_type": "code",
   "execution_count": 82,
   "metadata": {},
   "outputs": [
    {
     "name": "stdout",
     "output_type": "stream",
     "text": [
      "Original dataframe :\n",
      "         name  score  attempts qualify\n",
      "a  Anastasia   12.5         1     yes\n",
      "b       Dima    9.0         3      no\n",
      "c  Katherine   16.5         2     yes\n",
      "d      James    NaN         3      no\n",
      "e      Emily    9.0         2      no\n",
      "f    Michael   20.0         3     yes\n",
      "g    Matthew   14.5         1     yes\n",
      "h      Laura    NaN         1      no\n",
      "i      Kevin    8.0         2      no\n",
      "j      Jonas   19.0         1     yes\n",
      "\n",
      "Rows where score is nan:\n",
      "13.5625\n"
     ]
    }
   ],
   "source": [
    "def main():\n",
    "\texam_data = {\n",
    "\t\t\t'name': ['Anastasia', 'Dima', 'Katherine', 'James', 'Emily', 'Michael',\n",
    "\t\t\t\t\t\t\t'Matthew', 'Laura', 'Kevin', 'Jonas'],\n",
    "\t\t\t'score': [12.5, 9, 16.5, np.nan, 9, 20, 14.5, np.nan, 8, 19],\n",
    "\t\t\t'attempts': [1, 3, 2, 3, 2, 3, 1, 1, 2, 1],\n",
    "\t\t\t'qualify': ['yes', 'no', 'yes', 'no', 'no', 'yes', 'yes', 'no', 'no', 'yes']\n",
    "\t}\n",
    "\tlabels = ['a', 'b', 'c', 'd', 'e', 'f', 'g', 'h', 'i', 'j']\n",
    "\n",
    "\tdf = pd.DataFrame(exam_data, index=labels)\n",
    "\tprint(\"Original dataframe :\\n\",df)\n",
    "     \n",
    "\tprint(\"\\nRows where score is nan:\")\n",
    "\tprint(df['score'].mean())\n",
    "     \n",
    "    \n",
    "if __name__ == \"__main__\":\n",
    "  main()"
   ]
  },
  {
   "cell_type": "markdown",
   "metadata": {},
   "source": [
    "## 17. Write a Python program to append a new row 'k' to data frame with given values for each column. Now delete the new row and return the original DataFrame.\n",
    "exam_data = {<br>'name': ['Anastasia', 'Dima', 'Katherine', 'James', 'Emily', 'Michael', 'Matthew',<br>\n",
    "'Laura', 'Kevin', 'Jonas'],<br>\n",
    "'score': [12.5, 9, 16.5, np.nan, 9, 20, 14.5, np.nan, 8, 19],<br>\n",
    "'attempts': [1, 3, 2, 3, 2, 3, 1, 1, 2, 1],<br>\n",
    "'qualify': ['yes', 'no', 'yes', 'no', 'no', 'yes', 'yes', 'no', 'no', 'yes']<br>}<br>\n",
    "labels = ['a', 'b', 'c', 'd', 'e', 'f', 'g', 'h', 'i', 'j']\n"
   ]
  },
  {
   "cell_type": "code",
   "execution_count": 84,
   "metadata": {},
   "outputs": [
    {
     "name": "stdout",
     "output_type": "stream",
     "text": [
      "Original dataframe :\n",
      "         name  score  attempts qualify\n",
      "a  Anastasia   12.5         1     yes\n",
      "b       Dima    9.0         3      no\n",
      "c  Katherine   16.5         2     yes\n",
      "d      James    NaN         3      no\n",
      "e      Emily    9.0         2      no\n",
      "f    Michael   20.0         3     yes\n",
      "g    Matthew   14.5         1     yes\n",
      "h      Laura    NaN         1      no\n",
      "i      Kevin    8.0         2      no\n",
      "j      Jonas   19.0         1     yes\n",
      "\n",
      "Rows added :\n",
      "        name  score  attempts qualify\n",
      "a  Anastasia   12.5         1     yes\n",
      "b       Dima    9.0         3      no\n",
      "c  Katherine   16.5         2     yes\n",
      "d      James    NaN         3      no\n",
      "e      Emily    9.0         2      no\n",
      "f    Michael   20.0         3     yes\n",
      "g    Matthew   14.5         1     yes\n",
      "h      Laura    NaN         1      no\n",
      "i      Kevin    8.0         2      no\n",
      "j      Jonas   19.0         1     yes\n",
      "k     prayag   20.0         1     yes\n"
     ]
    }
   ],
   "source": [
    "def main():\n",
    "\texam_data = {\n",
    "\t\t\t'name': ['Anastasia', 'Dima', 'Katherine', 'James', 'Emily', 'Michael',\n",
    "\t\t\t\t\t\t\t'Matthew', 'Laura', 'Kevin', 'Jonas'],\n",
    "\t\t\t'score': [12.5, 9, 16.5, np.nan, 9, 20, 14.5, np.nan, 8, 19],\n",
    "\t\t\t'attempts': [1, 3, 2, 3, 2, 3, 1, 1, 2, 1],\n",
    "\t\t\t'qualify': ['yes', 'no', 'yes', 'no', 'no', 'yes', 'yes', 'no', 'no', 'yes']\n",
    "\t}\n",
    "\tlabels = ['a', 'b', 'c', 'd', 'e', 'f', 'g', 'h', 'i', 'j']\n",
    "\n",
    "\tdf = pd.DataFrame(exam_data, index=labels)\n",
    "\tprint(\"Original dataframe :\\n\",df)\n",
    "  \n",
    "\tnew_df = pd.DataFrame([[\"prayag\", 20, 1, 'yes']],columns=df.columns,index=['k'])\n",
    "\tdf = pd.concat([df,new_df])\n",
    "     \n",
    "\tprint(\"\\nRows added :\")\n",
    "\tprint(df)\n",
    "     \n",
    "    \n",
    "if __name__ == \"__main__\":\n",
    "  main()"
   ]
  },
  {
   "cell_type": "markdown",
   "metadata": {},
   "source": [
    "## 18. Write a Python program to sort the DataFrame first by 'name' in descending order, then by 'score' in ascending order.\n",
    "\\exam_data = {<br>'name': ['Anastasia', 'Dima', 'Katherine', 'James', 'Emily', 'Michael', 'Matthew',<br>\n",
    "'Laura', 'Kevin', 'Jonas'],<br>\n",
    "'score': [12.5, 9, 16.5, np.nan, 9, 20, 14.5, np.nan, 8, 19],<br>\n",
    "'attempts': [1, 3, 2, 3, 2, 3, 1, 1, 2, 1],<br>\n",
    "'qualify': ['yes', 'no', 'yes', 'no', 'no', 'yes', 'yes', 'no', 'no', 'yes']<br>}<br>\n",
    "labels = ['a', 'b', 'c', 'd', 'e', 'f', 'g', 'h', 'i', 'j']\n",
    "\n"
   ]
  },
  {
   "cell_type": "code",
   "execution_count": 90,
   "metadata": {},
   "outputs": [
    {
     "name": "stdout",
     "output_type": "stream",
     "text": [
      "Original dataframe :\n",
      "         name  score  attempts qualify\n",
      "a  Anastasia   12.5         1     yes\n",
      "b       Dima    9.0         3      no\n",
      "c  Katherine   16.5         2     yes\n",
      "d      James    NaN         3      no\n",
      "e      Emily    9.0         2      no\n",
      "f    Michael   20.0         3     yes\n",
      "g    Matthew   14.5         1     yes\n",
      "h      Laura    NaN         1      no\n",
      "i      Kevin    8.0         2      no\n",
      "j      Jonas   19.0         1     yes\n",
      "\n",
      "Name ascending dataframe :\n",
      "         name  score  attempts qualify\n",
      "f    Michael   20.0         3     yes\n",
      "g    Matthew   14.5         1     yes\n",
      "h      Laura    NaN         1      no\n",
      "i      Kevin    8.0         2      no\n",
      "c  Katherine   16.5         2     yes\n",
      "j      Jonas   19.0         1     yes\n",
      "d      James    NaN         3      no\n",
      "e      Emily    9.0         2      no\n",
      "b       Dima    9.0         3      no\n",
      "a  Anastasia   12.5         1     yes\n",
      "\n",
      "Score descending dataframe :\n",
      "         name  score  attempts qualify\n",
      "i      Kevin    8.0         2      no\n",
      "e      Emily    9.0         2      no\n",
      "b       Dima    9.0         3      no\n",
      "a  Anastasia   12.5         1     yes\n",
      "g    Matthew   14.5         1     yes\n",
      "c  Katherine   16.5         2     yes\n",
      "j      Jonas   19.0         1     yes\n",
      "f    Michael   20.0         3     yes\n",
      "h      Laura    NaN         1      no\n",
      "d      James    NaN         3      no\n"
     ]
    }
   ],
   "source": [
    "def main():\n",
    "\texam_data = {\n",
    "\t\t\t'name': ['Anastasia', 'Dima', 'Katherine', 'James', 'Emily', 'Michael',\n",
    "\t\t\t\t\t\t\t'Matthew', 'Laura', 'Kevin', 'Jonas'],\n",
    "\t\t\t'score': [12.5, 9, 16.5, np.nan, 9, 20, 14.5, np.nan, 8, 19],\n",
    "\t\t\t'attempts': [1, 3, 2, 3, 2, 3, 1, 1, 2, 1],\n",
    "\t\t\t'qualify': ['yes', 'no', 'yes', 'no', 'no', 'yes', 'yes', 'no', 'no', 'yes']\n",
    "\t}\n",
    "\tlabels = ['a', 'b', 'c', 'd', 'e', 'f', 'g', 'h', 'i', 'j']\n",
    "\n",
    "\tdf = pd.DataFrame(exam_data, index=labels)\n",
    "\tprint(\"Original dataframe :\\n\",df)\n",
    "  \n",
    "\tdf = df.sort_values(by=\"name\",ascending=False)\n",
    "\tprint(\"\\nName ascending dataframe :\\n\",df)\n",
    "\tdf = df.sort_values(by=\"score\") #default aascending true\n",
    "\tprint(\"\\nScore descending dataframe :\\n\",df)\n",
    "     \n",
    "     \n",
    "if __name__ == \"__main__\":\n",
    "  main()"
   ]
  },
  {
   "cell_type": "markdown",
   "metadata": {},
   "source": [
    "## 19. Write a Python program to replace the 'qualify' column contains the values 'yes' and 'no' with True and False\n",
    "exam_data = {<br>'name': ['Anastasia', 'Dima', 'Katherine', 'James', 'Emily', 'Michael', 'Matthew',<br>\n",
    "'Laura', 'Kevin', 'Jonas'],<br>\n",
    "'score': [12.5, 9, 16.5, np.nan, 9, 20, 14.5, np.nan, 8, 19],<br>\n",
    "'attempts': [1, 3, 2, 3, 2, 3, 1, 1, 2, 1],<br>\n",
    "'qualify': ['yes', 'no', 'yes', 'no', 'no', 'yes', 'yes', 'no', 'no', 'yes']<br>}<br>\n",
    "labels = ['a', 'b', 'c', 'd', 'e', 'f', 'g', 'h', 'i', 'j']\n"
   ]
  },
  {
   "cell_type": "code",
   "execution_count": 94,
   "metadata": {},
   "outputs": [
    {
     "name": "stdout",
     "output_type": "stream",
     "text": [
      "Original dataframe :\n",
      "         name  score  attempts qualify\n",
      "a  Anastasia   12.5         1     yes\n",
      "b       Dima    9.0         3      no\n",
      "c  Katherine   16.5         2     yes\n",
      "d      James    NaN         3      no\n",
      "e      Emily    9.0         2      no\n",
      "f    Michael   20.0         3     yes\n",
      "g    Matthew   14.5         1     yes\n",
      "h      Laura    NaN         1      no\n",
      "i      Kevin    8.0         2      no\n",
      "j      Jonas   19.0         1     yes\n",
      "Original dataframe :\n",
      "         name  score  attempts  qualify\n",
      "a  Anastasia   12.5         1     True\n",
      "b       Dima    9.0         3    False\n",
      "c  Katherine   16.5         2     True\n",
      "d      James    NaN         3    False\n",
      "e      Emily    9.0         2    False\n",
      "f    Michael   20.0         3     True\n",
      "g    Matthew   14.5         1     True\n",
      "h      Laura    NaN         1    False\n",
      "i      Kevin    8.0         2    False\n",
      "j      Jonas   19.0         1     True\n"
     ]
    },
    {
     "name": "stderr",
     "output_type": "stream",
     "text": [
      "C:\\Users\\bhoir\\AppData\\Local\\Temp\\ipykernel_26260\\1588794132.py:14: FutureWarning: Downcasting behavior in `replace` is deprecated and will be removed in a future version. To retain the old behavior, explicitly call `result.infer_objects(copy=False)`. To opt-in to the future behavior, set `pd.set_option('future.no_silent_downcasting', True)`\n",
      "  df['qualify'] = df['qualify'].replace({'yes': True, 'no': False})#can use map\n"
     ]
    }
   ],
   "source": [
    "def main():\n",
    "\texam_data = {\n",
    "\t\t\t'name': ['Anastasia', 'Dima', 'Katherine', 'James', 'Emily', 'Michael',\n",
    "\t\t\t\t\t\t\t'Matthew', 'Laura', 'Kevin', 'Jonas'],\n",
    "\t\t\t'score': [12.5, 9, 16.5, np.nan, 9, 20, 14.5, np.nan, 8, 19],\n",
    "\t\t\t'attempts': [1, 3, 2, 3, 2, 3, 1, 1, 2, 1],\n",
    "\t\t\t'qualify': ['yes', 'no', 'yes', 'no', 'no', 'yes', 'yes', 'no', 'no', 'yes']\n",
    "\t}\n",
    "\tlabels = ['a', 'b', 'c', 'd', 'e', 'f', 'g', 'h', 'i', 'j']\n",
    "\n",
    "\tdf = pd.DataFrame(exam_data, index=labels)\n",
    "\tprint(\"Original dataframe :\\n\",df)\n",
    "  \n",
    "\tdf['qualify'] = df['qualify'].replace({'yes': True, 'no': False})#can use map\n",
    "\tprint(\"Original dataframe :\\n\",df)\n",
    "\n",
    "     \n",
    "if __name__ == \"__main__\":\n",
    "  main()"
   ]
  },
  {
   "cell_type": "markdown",
   "metadata": {},
   "source": [
    "## 20. Write a Python program to delete the 'attempts' column from the DataFrame.\n",
    "exam_data = {<br>'name': ['Anastasia', 'Dima', 'Katherine', 'James', 'Emily', 'Michael', 'Matthew',<br>\n",
    "'Laura', 'Kevin', 'Jonas'],<br>\n",
    "'score': [12.5, 9, 16.5, np.nan, 9, 20, 14.5, np.nan, 8, 19],<br>\n",
    "'attempts': [1, 3, 2, 3, 2, 3, 1, 1, 2, 1],<br>\n",
    "'qualify': ['yes', 'no', 'yes', 'no', 'no', 'yes', 'yes', 'no', 'no', 'yes']<br>}<br>\n",
    "labels = ['a', 'b', 'c', 'd', 'e', 'f', 'g', 'h', 'i', 'j']\n",
    "\n"
   ]
  },
  {
   "cell_type": "code",
   "execution_count": 96,
   "metadata": {},
   "outputs": [
    {
     "name": "stdout",
     "output_type": "stream",
     "text": [
      "Original dataframe :\n",
      "         name  score  attempts qualify\n",
      "a  Anastasia   12.5         1     yes\n",
      "b       Dima    9.0         3      no\n",
      "c  Katherine   16.5         2     yes\n",
      "d      James    NaN         3      no\n",
      "e      Emily    9.0         2      no\n",
      "f    Michael   20.0         3     yes\n",
      "g    Matthew   14.5         1     yes\n",
      "h      Laura    NaN         1      no\n",
      "i      Kevin    8.0         2      no\n",
      "j      Jonas   19.0         1     yes\n",
      "\n",
      "After removing :\n",
      "        name  score qualify\n",
      "a  Anastasia   12.5     yes\n",
      "b       Dima    9.0      no\n",
      "c  Katherine   16.5     yes\n",
      "d      James    NaN      no\n",
      "e      Emily    9.0      no\n",
      "f    Michael   20.0     yes\n",
      "g    Matthew   14.5     yes\n",
      "h      Laura    NaN      no\n",
      "i      Kevin    8.0      no\n",
      "j      Jonas   19.0     yes\n"
     ]
    }
   ],
   "source": [
    "def main():\n",
    "\texam_data = {\n",
    "\t\t\t'name': ['Anastasia', 'Dima', 'Katherine', 'James', 'Emily', 'Michael',\n",
    "\t\t\t\t\t\t\t'Matthew', 'Laura', 'Kevin', 'Jonas'],\n",
    "\t\t\t'score': [12.5, 9, 16.5, np.nan, 9, 20, 14.5, np.nan, 8, 19],\n",
    "\t\t\t'attempts': [1, 3, 2, 3, 2, 3, 1, 1, 2, 1],\n",
    "\t\t\t'qualify': ['yes', 'no', 'yes', 'no', 'no', 'yes', 'yes', 'no', 'no', 'yes']\n",
    "\t}\n",
    "\tlabels = ['a', 'b', 'c', 'd', 'e', 'f', 'g', 'h', 'i', 'j']\n",
    "\n",
    "\tdf = pd.DataFrame(exam_data, index=labels)\n",
    "\tprint(\"Original dataframe :\\n\",df)\n",
    "\tdf.pop(\"attempts\")\n",
    "\tprint(\"\\nAfter removing :\")\n",
    "\tprint(df)\n",
    "     \n",
    "    \n",
    "if __name__ == \"__main__\":\n",
    "  main()"
   ]
  },
  {
   "cell_type": "markdown",
   "metadata": {},
   "source": [
    "## 21. Write a Python program to insert a new column in existing DataFrame\n",
    "exam_data = {<br>'name': ['Anastasia', 'Dima', 'Katherine', 'James', 'Emily', 'Michael', 'Matthew',<br>\n",
    "'Laura', 'Kevin', 'Jonas'],<br>\n",
    "'score': [12.5, 9, 16.5, np.nan, 9, 20, 14.5, np.nan, 8, 19],<br>\n",
    "'attempts': [1, 3, 2, 3, 2, 3, 1, 1, 2, 1],<br>\n",
    "'qualify': ['yes', 'no', 'yes', 'no', 'no', 'yes', 'yes', 'no', 'no', 'yes']<br>}<br>\n",
    "labels = ['a', 'b', 'c', 'd', 'e', 'f', 'g', 'h', 'i', 'j']\n"
   ]
  },
  {
   "cell_type": "code",
   "execution_count": 98,
   "metadata": {},
   "outputs": [
    {
     "name": "stdout",
     "output_type": "stream",
     "text": [
      "Original dataframe :\n",
      "         name  score  attempts qualify\n",
      "a  Anastasia   12.5         1     yes\n",
      "b       Dima    9.0         3      no\n",
      "c  Katherine   16.5         2     yes\n",
      "d      James    NaN         3      no\n",
      "e      Emily    9.0         2      no\n",
      "f    Michael   20.0         3     yes\n",
      "g    Matthew   14.5         1     yes\n",
      "h      Laura    NaN         1      no\n",
      "i      Kevin    8.0         2      no\n",
      "j      Jonas   19.0         1     yes\n",
      "\n",
      "Column added :\n",
      "        name  score  attempts qualify smart\n",
      "a  Anastasia   12.5         1     yes   yes\n",
      "b       Dima    9.0         3      no    no\n",
      "c  Katherine   16.5         2     yes   yes\n",
      "d      James    NaN         3      no    no\n",
      "e      Emily    9.0         2      no    no\n",
      "f    Michael   20.0         3     yes   yes\n",
      "g    Matthew   14.5         1     yes   yes\n",
      "h      Laura    NaN         1      no    no\n",
      "i      Kevin    8.0         2      no    no\n",
      "j      Jonas   19.0         1     yes   yes\n"
     ]
    }
   ],
   "source": [
    "def main():\n",
    "\texam_data = {\n",
    "\t\t\t'name': ['Anastasia', 'Dima', 'Katherine', 'James', 'Emily', 'Michael',\n",
    "\t\t\t\t\t\t\t'Matthew', 'Laura', 'Kevin', 'Jonas'],\n",
    "\t\t\t'score': [12.5, 9, 16.5, np.nan, 9, 20, 14.5, np.nan, 8, 19],\n",
    "\t\t\t'attempts': [1, 3, 2, 3, 2, 3, 1, 1, 2, 1],\n",
    "\t\t\t'qualify': ['yes', 'no', 'yes', 'no', 'no', 'yes', 'yes', 'no', 'no', 'yes']\n",
    "\t}\n",
    "\tlabels = ['a', 'b', 'c', 'd', 'e', 'f', 'g', 'h', 'i', 'j']\n",
    "\n",
    "\tdf = pd.DataFrame(exam_data, index=labels)\n",
    "\tprint(\"Original dataframe :\\n\",df)\n",
    "  \n",
    "\tdf[\"smart\"]= ['yes', 'no', 'yes', 'no', 'no', 'yes', 'yes', 'no', 'no', 'yes']\n",
    "\tprint(\"\\nColumn added :\")\n",
    "\tprint(df)\n",
    "     \n",
    "   \n",
    "if __name__ == \"__main__\":\n",
    "  main()"
   ]
  },
  {
   "cell_type": "markdown",
   "metadata": {},
   "source": [
    "## 22. Write a Python program to iterate over rows in a DataFrame\n",
    "exam_data = {<br>'name': ['Anastasia', 'Dima', 'Katherine', 'James', 'Emily', 'Michael', 'Matthew',<br>\n",
    "'Laura', 'Kevin', 'Jonas'],<br>\n",
    "'score': [12.5, 9, 16.5, np.nan, 9, 20, 14.5, np.nan, 8, 19],<br>\n",
    "'attempts': [1, 3, 2, 3, 2, 3, 1, 1, 2, 1],<br>\n",
    "'qualify': ['yes', 'no', 'yes', 'no', 'no', 'yes', 'yes', 'no', 'no', 'yes']<br>}<br>\n",
    "labels = ['a', 'b', 'c', 'd', 'e', 'f', 'g', 'h', 'i', 'j']\n"
   ]
  },
  {
   "cell_type": "code",
   "execution_count": 102,
   "metadata": {},
   "outputs": [
    {
     "name": "stdout",
     "output_type": "stream",
     "text": [
      "Original dataframe :\n",
      "         name  score  attempts qualify\n",
      "a  Anastasia   12.5         1     yes\n",
      "b       Dima    9.0         3      no\n",
      "c  Katherine   16.5         2     yes\n",
      "d      James    NaN         3      no\n",
      "e      Emily    9.0         2      no\n",
      "f    Michael   20.0         3     yes\n",
      "g    Matthew   14.5         1     yes\n",
      "h      Laura    NaN         1      no\n",
      "i      Kevin    8.0         2      no\n",
      "j      Jonas   19.0         1     yes\n",
      "Index: a\n",
      "Row data:\n",
      "name        Anastasia\n",
      "score            12.5\n",
      "attempts            1\n",
      "qualify           yes\n",
      "Name: a, dtype: object\n",
      "\n",
      "Index: b\n",
      "Row data:\n",
      "name        Dima\n",
      "score        9.0\n",
      "attempts       3\n",
      "qualify       no\n",
      "Name: b, dtype: object\n",
      "\n",
      "Index: c\n",
      "Row data:\n",
      "name        Katherine\n",
      "score            16.5\n",
      "attempts            2\n",
      "qualify           yes\n",
      "Name: c, dtype: object\n",
      "\n",
      "Index: d\n",
      "Row data:\n",
      "name        James\n",
      "score         NaN\n",
      "attempts        3\n",
      "qualify        no\n",
      "Name: d, dtype: object\n",
      "\n",
      "Index: e\n",
      "Row data:\n",
      "name        Emily\n",
      "score         9.0\n",
      "attempts        2\n",
      "qualify        no\n",
      "Name: e, dtype: object\n",
      "\n",
      "Index: f\n",
      "Row data:\n",
      "name        Michael\n",
      "score          20.0\n",
      "attempts          3\n",
      "qualify         yes\n",
      "Name: f, dtype: object\n",
      "\n",
      "Index: g\n",
      "Row data:\n",
      "name        Matthew\n",
      "score          14.5\n",
      "attempts          1\n",
      "qualify         yes\n",
      "Name: g, dtype: object\n",
      "\n",
      "Index: h\n",
      "Row data:\n",
      "name        Laura\n",
      "score         NaN\n",
      "attempts        1\n",
      "qualify        no\n",
      "Name: h, dtype: object\n",
      "\n",
      "Index: i\n",
      "Row data:\n",
      "name        Kevin\n",
      "score         8.0\n",
      "attempts        2\n",
      "qualify        no\n",
      "Name: i, dtype: object\n",
      "\n",
      "Index: j\n",
      "Row data:\n",
      "name        Jonas\n",
      "score        19.0\n",
      "attempts        1\n",
      "qualify       yes\n",
      "Name: j, dtype: object\n",
      "\n"
     ]
    }
   ],
   "source": [
    "def main():\n",
    "\texam_data = {\n",
    "\t\t\t'name': ['Anastasia', 'Dima', 'Katherine', 'James', 'Emily', 'Michael',\n",
    "\t\t\t\t\t\t\t'Matthew', 'Laura', 'Kevin', 'Jonas'],\n",
    "\t\t\t'score': [12.5, 9, 16.5, np.nan, 9, 20, 14.5, np.nan, 8, 19],\n",
    "\t\t\t'attempts': [1, 3, 2, 3, 2, 3, 1, 1, 2, 1],\n",
    "\t\t\t'qualify': ['yes', 'no', 'yes', 'no', 'no', 'yes', 'yes', 'no', 'no', 'yes']\n",
    "\t}\n",
    "\tlabels = ['a', 'b', 'c', 'd', 'e', 'f', 'g', 'h', 'i', 'j']\n",
    "\n",
    "\tdf = pd.DataFrame(exam_data, index=labels)\n",
    "\tprint(\"Original dataframe :\\n\",df)\n",
    "  \n",
    "     \n",
    "\tfor index, row in df.iterrows():\n",
    "\t\tprint(f\"Index: {index}\")\n",
    "\t\tprint(f\"Row data:\\n{row}\")\n",
    "\t\tprint()\n",
    "\t\t\n",
    "\t\"\"\"\n",
    "\tprint(\"Using itertuples():\")\n",
    "\tUsing itertuples() to iterate over rows\n",
    "\tfor row in df.itertuples():\n",
    "\t\tprint(f\"Index: {row.Index}\")\n",
    "\t\tprint(f\"Row data:\\n{row}\")\n",
    "\t\tprint()\n",
    "\t\"\"\"\n",
    "     \n",
    "    \n",
    "if __name__ == \"__main__\":\n",
    "  main()"
   ]
  },
  {
   "cell_type": "markdown",
   "metadata": {},
   "source": [
    "## 23. Write a Python program to get list from DataFrame column headers.\n",
    "exam_data = {<br>'name': ['Anastasia', 'Dima', 'Katherine', 'James', 'Emily', 'Michael', 'Matthew',<br>\n",
    "'Laura', 'Kevin', 'Jonas'],<br>\n",
    "'score': [12.5, 9, 16.5, np.nan, 9, 20, 14.5, np.nan, 8, 19],<br>\n",
    "'attempts': [1, 3, 2, 3, 2, 3, 1, 1, 2, 1],<br>\n",
    "'qualify': ['yes', 'no', 'yes', 'no', 'no', 'yes', 'yes', 'no', 'no', 'yes']<br>}<br>\n",
    "labels = ['a', 'b', 'c', 'd', 'e', 'f', 'g', 'h', 'i', 'j']\n"
   ]
  },
  {
   "cell_type": "code",
   "execution_count": 105,
   "metadata": {},
   "outputs": [
    {
     "name": "stdout",
     "output_type": "stream",
     "text": [
      "Original dataframe :\n",
      "         name  score  attempts qualify\n",
      "a  Anastasia   12.5         1     yes\n",
      "b       Dima    9.0         3      no\n",
      "c  Katherine   16.5         2     yes\n",
      "d      James    NaN         3      no\n",
      "e      Emily    9.0         2      no\n",
      "f    Michael   20.0         3     yes\n",
      "g    Matthew   14.5         1     yes\n",
      "h      Laura    NaN         1      no\n",
      "i      Kevin    8.0         2      no\n",
      "j      Jonas   19.0         1     yes\n",
      "\n",
      "Column list:\n",
      "['name', 'score', 'attempts', 'qualify']\n"
     ]
    }
   ],
   "source": [
    "def main():\n",
    "\texam_data = {\n",
    "\t\t\t'name': ['Anastasia', 'Dima', 'Katherine', 'James', 'Emily', 'Michael',\n",
    "\t\t\t\t\t\t\t'Matthew', 'Laura', 'Kevin', 'Jonas'],\n",
    "\t\t\t'score': [12.5, 9, 16.5, np.nan, 9, 20, 14.5, np.nan, 8, 19],\n",
    "\t\t\t'attempts': [1, 3, 2, 3, 2, 3, 1, 1, 2, 1],\n",
    "\t\t\t'qualify': ['yes', 'no', 'yes', 'no', 'no', 'yes', 'yes', 'no', 'no', 'yes']\n",
    "\t}\n",
    "\tlabels = ['a', 'b', 'c', 'd', 'e', 'f', 'g', 'h', 'i', 'j']\n",
    "\n",
    "\tdf = pd.DataFrame(exam_data, index=labels)\n",
    "\tprint(\"Original dataframe :\\n\",df)\n",
    "\tlst = df.columns.tolist()\n",
    "     \n",
    "\tprint(\"\\nColumn list:\")\n",
    "\tprint(lst)\n",
    "     \n",
    "   \n",
    "if __name__ == \"__main__\":\n",
    "  main()"
   ]
  }
 ],
 "metadata": {
  "kernelspec": {
   "display_name": "Python 3",
   "language": "python",
   "name": "python3"
  },
  "language_info": {
   "codemirror_mode": {
    "name": "ipython",
    "version": 3
   },
   "file_extension": ".py",
   "mimetype": "text/x-python",
   "name": "python",
   "nbconvert_exporter": "python",
   "pygments_lexer": "ipython3",
   "version": "3.12.5"
  }
 },
 "nbformat": 4,
 "nbformat_minor": 2
}
